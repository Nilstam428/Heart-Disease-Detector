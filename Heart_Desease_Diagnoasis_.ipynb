{
  "cells": [
    {
      "cell_type": "markdown",
      "metadata": {
        "id": "BKBYkjtEclmP"
      },
      "source": [
        "#Import Library\n"
      ]
    },
    {
      "cell_type": "code",
      "execution_count": null,
      "metadata": {
        "id": "pb3PJxuMHLAu"
      },
      "outputs": [],
      "source": [
        "import os\n",
        "\n",
        "# Numpy\n",
        "import numpy as np\n",
        "\n",
        "#Pandas\n",
        "import pandas as pd\n",
        "\n",
        "#matplotlib\n",
        "import matplotlib.pyplot as plt\n",
        "\n",
        "# Seaborn\n",
        "import seaborn as sns\n",
        "#Library for statistical modelling\n",
        "from sklearn.preprocessing import LabelEncoder\n",
        "#Library for ignoring the warnings\n",
        "import warnings\n",
        "warnings.filterwarnings('always')\n",
        "warnings.filterwarnings('ignore')\n"
      ]
    },
    {
      "cell_type": "markdown",
      "metadata": {
        "id": "xrEi_2cQcsPu"
      },
      "source": [
        "#Data Collection"
      ]
    },
    {
      "cell_type": "code",
      "execution_count": null,
      "metadata": {
        "id": "2RpXSssWTe29"
      },
      "outputs": [],
      "source": [
        "# Load Heart disease dataset\n",
        "df = pd.read_csv(\"/content/Heart Disease data.csv\")\n",
        "na_values=(\"??\",\"????\")"
      ]
    },
    {
      "cell_type": "code",
      "execution_count": null,
      "metadata": {
        "colab": {
          "base_uri": "https://localhost:8080/",
          "height": 223
        },
        "id": "-J6lRzQ0KS30",
        "outputId": "f19c6fd2-68e0-46dc-ffa1-969d053e9828"
      },
      "outputs": [
        {
          "output_type": "stream",
          "name": "stdout",
          "text": [
            "Team:-THE ANALYZERS\n"
          ]
        },
        {
          "output_type": "execute_result",
          "data": {
            "text/plain": [
              "   age  sex  cp  trestbps  chol  fbs  restecg  thalach  exang  oldpeak  slope  \\\n",
              "0   52    1   0       125   212    0        1      168      0      1.0      2   \n",
              "1   53    1   0       140   203    1        0      155      1      3.1      0   \n",
              "2   70    1   0       145   174    0        1      125      1      2.6      0   \n",
              "3   61    1   0       148   203    0        1      161      0      0.0      2   \n",
              "4   62    0   0       138   294    1        1      106      0      1.9      1   \n",
              "\n",
              "   ca  thal  target  \n",
              "0   2     3       0  \n",
              "1   0     3       0  \n",
              "2   0     3       0  \n",
              "3   1     3       0  \n",
              "4   3     2       0  "
            ],
            "text/html": [
              "\n",
              "  <div id=\"df-37de3dc6-21d8-462f-b49c-b9c7811e72c2\" class=\"colab-df-container\">\n",
              "    <div>\n",
              "<style scoped>\n",
              "    .dataframe tbody tr th:only-of-type {\n",
              "        vertical-align: middle;\n",
              "    }\n",
              "\n",
              "    .dataframe tbody tr th {\n",
              "        vertical-align: top;\n",
              "    }\n",
              "\n",
              "    .dataframe thead th {\n",
              "        text-align: right;\n",
              "    }\n",
              "</style>\n",
              "<table border=\"1\" class=\"dataframe\">\n",
              "  <thead>\n",
              "    <tr style=\"text-align: right;\">\n",
              "      <th></th>\n",
              "      <th>age</th>\n",
              "      <th>sex</th>\n",
              "      <th>cp</th>\n",
              "      <th>trestbps</th>\n",
              "      <th>chol</th>\n",
              "      <th>fbs</th>\n",
              "      <th>restecg</th>\n",
              "      <th>thalach</th>\n",
              "      <th>exang</th>\n",
              "      <th>oldpeak</th>\n",
              "      <th>slope</th>\n",
              "      <th>ca</th>\n",
              "      <th>thal</th>\n",
              "      <th>target</th>\n",
              "    </tr>\n",
              "  </thead>\n",
              "  <tbody>\n",
              "    <tr>\n",
              "      <th>0</th>\n",
              "      <td>52</td>\n",
              "      <td>1</td>\n",
              "      <td>0</td>\n",
              "      <td>125</td>\n",
              "      <td>212</td>\n",
              "      <td>0</td>\n",
              "      <td>1</td>\n",
              "      <td>168</td>\n",
              "      <td>0</td>\n",
              "      <td>1.0</td>\n",
              "      <td>2</td>\n",
              "      <td>2</td>\n",
              "      <td>3</td>\n",
              "      <td>0</td>\n",
              "    </tr>\n",
              "    <tr>\n",
              "      <th>1</th>\n",
              "      <td>53</td>\n",
              "      <td>1</td>\n",
              "      <td>0</td>\n",
              "      <td>140</td>\n",
              "      <td>203</td>\n",
              "      <td>1</td>\n",
              "      <td>0</td>\n",
              "      <td>155</td>\n",
              "      <td>1</td>\n",
              "      <td>3.1</td>\n",
              "      <td>0</td>\n",
              "      <td>0</td>\n",
              "      <td>3</td>\n",
              "      <td>0</td>\n",
              "    </tr>\n",
              "    <tr>\n",
              "      <th>2</th>\n",
              "      <td>70</td>\n",
              "      <td>1</td>\n",
              "      <td>0</td>\n",
              "      <td>145</td>\n",
              "      <td>174</td>\n",
              "      <td>0</td>\n",
              "      <td>1</td>\n",
              "      <td>125</td>\n",
              "      <td>1</td>\n",
              "      <td>2.6</td>\n",
              "      <td>0</td>\n",
              "      <td>0</td>\n",
              "      <td>3</td>\n",
              "      <td>0</td>\n",
              "    </tr>\n",
              "    <tr>\n",
              "      <th>3</th>\n",
              "      <td>61</td>\n",
              "      <td>1</td>\n",
              "      <td>0</td>\n",
              "      <td>148</td>\n",
              "      <td>203</td>\n",
              "      <td>0</td>\n",
              "      <td>1</td>\n",
              "      <td>161</td>\n",
              "      <td>0</td>\n",
              "      <td>0.0</td>\n",
              "      <td>2</td>\n",
              "      <td>1</td>\n",
              "      <td>3</td>\n",
              "      <td>0</td>\n",
              "    </tr>\n",
              "    <tr>\n",
              "      <th>4</th>\n",
              "      <td>62</td>\n",
              "      <td>0</td>\n",
              "      <td>0</td>\n",
              "      <td>138</td>\n",
              "      <td>294</td>\n",
              "      <td>1</td>\n",
              "      <td>1</td>\n",
              "      <td>106</td>\n",
              "      <td>0</td>\n",
              "      <td>1.9</td>\n",
              "      <td>1</td>\n",
              "      <td>3</td>\n",
              "      <td>2</td>\n",
              "      <td>0</td>\n",
              "    </tr>\n",
              "  </tbody>\n",
              "</table>\n",
              "</div>\n",
              "    <div class=\"colab-df-buttons\">\n",
              "\n",
              "  <div class=\"colab-df-container\">\n",
              "    <button class=\"colab-df-convert\" onclick=\"convertToInteractive('df-37de3dc6-21d8-462f-b49c-b9c7811e72c2')\"\n",
              "            title=\"Convert this dataframe to an interactive table.\"\n",
              "            style=\"display:none;\">\n",
              "\n",
              "  <svg xmlns=\"http://www.w3.org/2000/svg\" height=\"24px\" viewBox=\"0 -960 960 960\">\n",
              "    <path d=\"M120-120v-720h720v720H120Zm60-500h600v-160H180v160Zm220 220h160v-160H400v160Zm0 220h160v-160H400v160ZM180-400h160v-160H180v160Zm440 0h160v-160H620v160ZM180-180h160v-160H180v160Zm440 0h160v-160H620v160Z\"/>\n",
              "  </svg>\n",
              "    </button>\n",
              "\n",
              "  <style>\n",
              "    .colab-df-container {\n",
              "      display:flex;\n",
              "      gap: 12px;\n",
              "    }\n",
              "\n",
              "    .colab-df-convert {\n",
              "      background-color: #E8F0FE;\n",
              "      border: none;\n",
              "      border-radius: 50%;\n",
              "      cursor: pointer;\n",
              "      display: none;\n",
              "      fill: #1967D2;\n",
              "      height: 32px;\n",
              "      padding: 0 0 0 0;\n",
              "      width: 32px;\n",
              "    }\n",
              "\n",
              "    .colab-df-convert:hover {\n",
              "      background-color: #E2EBFA;\n",
              "      box-shadow: 0px 1px 2px rgba(60, 64, 67, 0.3), 0px 1px 3px 1px rgba(60, 64, 67, 0.15);\n",
              "      fill: #174EA6;\n",
              "    }\n",
              "\n",
              "    .colab-df-buttons div {\n",
              "      margin-bottom: 4px;\n",
              "    }\n",
              "\n",
              "    [theme=dark] .colab-df-convert {\n",
              "      background-color: #3B4455;\n",
              "      fill: #D2E3FC;\n",
              "    }\n",
              "\n",
              "    [theme=dark] .colab-df-convert:hover {\n",
              "      background-color: #434B5C;\n",
              "      box-shadow: 0px 1px 3px 1px rgba(0, 0, 0, 0.15);\n",
              "      filter: drop-shadow(0px 1px 2px rgba(0, 0, 0, 0.3));\n",
              "      fill: #FFFFFF;\n",
              "    }\n",
              "  </style>\n",
              "\n",
              "    <script>\n",
              "      const buttonEl =\n",
              "        document.querySelector('#df-37de3dc6-21d8-462f-b49c-b9c7811e72c2 button.colab-df-convert');\n",
              "      buttonEl.style.display =\n",
              "        google.colab.kernel.accessAllowed ? 'block' : 'none';\n",
              "\n",
              "      async function convertToInteractive(key) {\n",
              "        const element = document.querySelector('#df-37de3dc6-21d8-462f-b49c-b9c7811e72c2');\n",
              "        const dataTable =\n",
              "          await google.colab.kernel.invokeFunction('convertToInteractive',\n",
              "                                                    [key], {});\n",
              "        if (!dataTable) return;\n",
              "\n",
              "        const docLinkHtml = 'Like what you see? Visit the ' +\n",
              "          '<a target=\"_blank\" href=https://colab.research.google.com/notebooks/data_table.ipynb>data table notebook</a>'\n",
              "          + ' to learn more about interactive tables.';\n",
              "        element.innerHTML = '';\n",
              "        dataTable['output_type'] = 'display_data';\n",
              "        await google.colab.output.renderOutput(dataTable, element);\n",
              "        const docLink = document.createElement('div');\n",
              "        docLink.innerHTML = docLinkHtml;\n",
              "        element.appendChild(docLink);\n",
              "      }\n",
              "    </script>\n",
              "  </div>\n",
              "\n",
              "\n",
              "<div id=\"df-54c309a4-8cfb-4d60-bb03-59ee70aa31eb\">\n",
              "  <button class=\"colab-df-quickchart\" onclick=\"quickchart('df-54c309a4-8cfb-4d60-bb03-59ee70aa31eb')\"\n",
              "            title=\"Suggest charts\"\n",
              "            style=\"display:none;\">\n",
              "\n",
              "<svg xmlns=\"http://www.w3.org/2000/svg\" height=\"24px\"viewBox=\"0 0 24 24\"\n",
              "     width=\"24px\">\n",
              "    <g>\n",
              "        <path d=\"M19 3H5c-1.1 0-2 .9-2 2v14c0 1.1.9 2 2 2h14c1.1 0 2-.9 2-2V5c0-1.1-.9-2-2-2zM9 17H7v-7h2v7zm4 0h-2V7h2v10zm4 0h-2v-4h2v4z\"/>\n",
              "    </g>\n",
              "</svg>\n",
              "  </button>\n",
              "\n",
              "<style>\n",
              "  .colab-df-quickchart {\n",
              "      --bg-color: #E8F0FE;\n",
              "      --fill-color: #1967D2;\n",
              "      --hover-bg-color: #E2EBFA;\n",
              "      --hover-fill-color: #174EA6;\n",
              "      --disabled-fill-color: #AAA;\n",
              "      --disabled-bg-color: #DDD;\n",
              "  }\n",
              "\n",
              "  [theme=dark] .colab-df-quickchart {\n",
              "      --bg-color: #3B4455;\n",
              "      --fill-color: #D2E3FC;\n",
              "      --hover-bg-color: #434B5C;\n",
              "      --hover-fill-color: #FFFFFF;\n",
              "      --disabled-bg-color: #3B4455;\n",
              "      --disabled-fill-color: #666;\n",
              "  }\n",
              "\n",
              "  .colab-df-quickchart {\n",
              "    background-color: var(--bg-color);\n",
              "    border: none;\n",
              "    border-radius: 50%;\n",
              "    cursor: pointer;\n",
              "    display: none;\n",
              "    fill: var(--fill-color);\n",
              "    height: 32px;\n",
              "    padding: 0;\n",
              "    width: 32px;\n",
              "  }\n",
              "\n",
              "  .colab-df-quickchart:hover {\n",
              "    background-color: var(--hover-bg-color);\n",
              "    box-shadow: 0 1px 2px rgba(60, 64, 67, 0.3), 0 1px 3px 1px rgba(60, 64, 67, 0.15);\n",
              "    fill: var(--button-hover-fill-color);\n",
              "  }\n",
              "\n",
              "  .colab-df-quickchart-complete:disabled,\n",
              "  .colab-df-quickchart-complete:disabled:hover {\n",
              "    background-color: var(--disabled-bg-color);\n",
              "    fill: var(--disabled-fill-color);\n",
              "    box-shadow: none;\n",
              "  }\n",
              "\n",
              "  .colab-df-spinner {\n",
              "    border: 2px solid var(--fill-color);\n",
              "    border-color: transparent;\n",
              "    border-bottom-color: var(--fill-color);\n",
              "    animation:\n",
              "      spin 1s steps(1) infinite;\n",
              "  }\n",
              "\n",
              "  @keyframes spin {\n",
              "    0% {\n",
              "      border-color: transparent;\n",
              "      border-bottom-color: var(--fill-color);\n",
              "      border-left-color: var(--fill-color);\n",
              "    }\n",
              "    20% {\n",
              "      border-color: transparent;\n",
              "      border-left-color: var(--fill-color);\n",
              "      border-top-color: var(--fill-color);\n",
              "    }\n",
              "    30% {\n",
              "      border-color: transparent;\n",
              "      border-left-color: var(--fill-color);\n",
              "      border-top-color: var(--fill-color);\n",
              "      border-right-color: var(--fill-color);\n",
              "    }\n",
              "    40% {\n",
              "      border-color: transparent;\n",
              "      border-right-color: var(--fill-color);\n",
              "      border-top-color: var(--fill-color);\n",
              "    }\n",
              "    60% {\n",
              "      border-color: transparent;\n",
              "      border-right-color: var(--fill-color);\n",
              "    }\n",
              "    80% {\n",
              "      border-color: transparent;\n",
              "      border-right-color: var(--fill-color);\n",
              "      border-bottom-color: var(--fill-color);\n",
              "    }\n",
              "    90% {\n",
              "      border-color: transparent;\n",
              "      border-bottom-color: var(--fill-color);\n",
              "    }\n",
              "  }\n",
              "</style>\n",
              "\n",
              "  <script>\n",
              "    async function quickchart(key) {\n",
              "      const quickchartButtonEl =\n",
              "        document.querySelector('#' + key + ' button');\n",
              "      quickchartButtonEl.disabled = true;  // To prevent multiple clicks.\n",
              "      quickchartButtonEl.classList.add('colab-df-spinner');\n",
              "      try {\n",
              "        const charts = await google.colab.kernel.invokeFunction(\n",
              "            'suggestCharts', [key], {});\n",
              "      } catch (error) {\n",
              "        console.error('Error during call to suggestCharts:', error);\n",
              "      }\n",
              "      quickchartButtonEl.classList.remove('colab-df-spinner');\n",
              "      quickchartButtonEl.classList.add('colab-df-quickchart-complete');\n",
              "    }\n",
              "    (() => {\n",
              "      let quickchartButtonEl =\n",
              "        document.querySelector('#df-54c309a4-8cfb-4d60-bb03-59ee70aa31eb button');\n",
              "      quickchartButtonEl.style.display =\n",
              "        google.colab.kernel.accessAllowed ? 'block' : 'none';\n",
              "    })();\n",
              "  </script>\n",
              "</div>\n",
              "\n",
              "    </div>\n",
              "  </div>\n"
            ],
            "application/vnd.google.colaboratory.intrinsic+json": {
              "type": "dataframe",
              "variable_name": "df",
              "summary": "{\n  \"name\": \"df\",\n  \"rows\": 1025,\n  \"fields\": [\n    {\n      \"column\": \"age\",\n      \"properties\": {\n        \"dtype\": \"number\",\n        \"std\": 9,\n        \"min\": 29,\n        \"max\": 77,\n        \"num_unique_values\": 41,\n        \"samples\": [\n          65,\n          50,\n          54\n        ],\n        \"semantic_type\": \"\",\n        \"description\": \"\"\n      }\n    },\n    {\n      \"column\": \"sex\",\n      \"properties\": {\n        \"dtype\": \"number\",\n        \"std\": 0,\n        \"min\": 0,\n        \"max\": 1,\n        \"num_unique_values\": 2,\n        \"samples\": [\n          0,\n          1\n        ],\n        \"semantic_type\": \"\",\n        \"description\": \"\"\n      }\n    },\n    {\n      \"column\": \"cp\",\n      \"properties\": {\n        \"dtype\": \"number\",\n        \"std\": 1,\n        \"min\": 0,\n        \"max\": 3,\n        \"num_unique_values\": 4,\n        \"samples\": [\n          1,\n          3\n        ],\n        \"semantic_type\": \"\",\n        \"description\": \"\"\n      }\n    },\n    {\n      \"column\": \"trestbps\",\n      \"properties\": {\n        \"dtype\": \"number\",\n        \"std\": 17,\n        \"min\": 94,\n        \"max\": 200,\n        \"num_unique_values\": 49,\n        \"samples\": [\n          128,\n          172\n        ],\n        \"semantic_type\": \"\",\n        \"description\": \"\"\n      }\n    },\n    {\n      \"column\": \"chol\",\n      \"properties\": {\n        \"dtype\": \"number\",\n        \"std\": 51,\n        \"min\": 126,\n        \"max\": 564,\n        \"num_unique_values\": 152,\n        \"samples\": [\n          267,\n          262\n        ],\n        \"semantic_type\": \"\",\n        \"description\": \"\"\n      }\n    },\n    {\n      \"column\": \"fbs\",\n      \"properties\": {\n        \"dtype\": \"number\",\n        \"std\": 0,\n        \"min\": 0,\n        \"max\": 1,\n        \"num_unique_values\": 2,\n        \"samples\": [\n          1,\n          0\n        ],\n        \"semantic_type\": \"\",\n        \"description\": \"\"\n      }\n    },\n    {\n      \"column\": \"restecg\",\n      \"properties\": {\n        \"dtype\": \"number\",\n        \"std\": 0,\n        \"min\": 0,\n        \"max\": 2,\n        \"num_unique_values\": 3,\n        \"samples\": [\n          1,\n          0\n        ],\n        \"semantic_type\": \"\",\n        \"description\": \"\"\n      }\n    },\n    {\n      \"column\": \"thalach\",\n      \"properties\": {\n        \"dtype\": \"number\",\n        \"std\": 23,\n        \"min\": 71,\n        \"max\": 202,\n        \"num_unique_values\": 91,\n        \"samples\": [\n          180,\n          152\n        ],\n        \"semantic_type\": \"\",\n        \"description\": \"\"\n      }\n    },\n    {\n      \"column\": \"exang\",\n      \"properties\": {\n        \"dtype\": \"number\",\n        \"std\": 0,\n        \"min\": 0,\n        \"max\": 1,\n        \"num_unique_values\": 2,\n        \"samples\": [\n          1,\n          0\n        ],\n        \"semantic_type\": \"\",\n        \"description\": \"\"\n      }\n    },\n    {\n      \"column\": \"oldpeak\",\n      \"properties\": {\n        \"dtype\": \"number\",\n        \"std\": 1.175053255150176,\n        \"min\": 0.0,\n        \"max\": 6.2,\n        \"num_unique_values\": 40,\n        \"samples\": [\n          2.8,\n          0.4\n        ],\n        \"semantic_type\": \"\",\n        \"description\": \"\"\n      }\n    },\n    {\n      \"column\": \"slope\",\n      \"properties\": {\n        \"dtype\": \"number\",\n        \"std\": 0,\n        \"min\": 0,\n        \"max\": 2,\n        \"num_unique_values\": 3,\n        \"samples\": [\n          2,\n          0\n        ],\n        \"semantic_type\": \"\",\n        \"description\": \"\"\n      }\n    },\n    {\n      \"column\": \"ca\",\n      \"properties\": {\n        \"dtype\": \"number\",\n        \"std\": 1,\n        \"min\": 0,\n        \"max\": 4,\n        \"num_unique_values\": 5,\n        \"samples\": [\n          0,\n          4\n        ],\n        \"semantic_type\": \"\",\n        \"description\": \"\"\n      }\n    },\n    {\n      \"column\": \"thal\",\n      \"properties\": {\n        \"dtype\": \"number\",\n        \"std\": 0,\n        \"min\": 0,\n        \"max\": 3,\n        \"num_unique_values\": 4,\n        \"samples\": [\n          2,\n          0\n        ],\n        \"semantic_type\": \"\",\n        \"description\": \"\"\n      }\n    },\n    {\n      \"column\": \"target\",\n      \"properties\": {\n        \"dtype\": \"number\",\n        \"std\": 0,\n        \"min\": 0,\n        \"max\": 1,\n        \"num_unique_values\": 2,\n        \"samples\": [\n          1,\n          0\n        ],\n        \"semantic_type\": \"\",\n        \"description\": \"\"\n      }\n    }\n  ]\n}"
            }
          },
          "metadata": {},
          "execution_count": 8
        }
      ],
      "source": [
        "print(\"Team:-THE ANALYZERS\")\n",
        "df.head()"
      ]
    },
    {
      "cell_type": "code",
      "execution_count": null,
      "metadata": {
        "colab": {
          "base_uri": "https://localhost:8080/"
        },
        "id": "ib3PVjtxKZNw",
        "outputId": "30a93afa-21f0-4087-eae9-fd7358ee6cda"
      },
      "outputs": [
        {
          "output_type": "execute_result",
          "data": {
            "text/plain": [
              "(1025, 14)"
            ]
          },
          "metadata": {},
          "execution_count": 9
        }
      ],
      "source": [
        "df.shape"
      ]
    },
    {
      "cell_type": "markdown",
      "metadata": {
        "id": "1hKYIpScLlQG"
      },
      "source": []
    },
    {
      "cell_type": "code",
      "execution_count": null,
      "metadata": {
        "colab": {
          "base_uri": "https://localhost:8080/",
          "height": 206
        },
        "id": "AJzlWHY-J8hK",
        "outputId": "264b498d-5871-4e2e-f28b-eeac06fe538b"
      },
      "outputs": [
        {
          "output_type": "execute_result",
          "data": {
            "text/plain": [
              "<pandas.io.formats.style.Styler at 0x7eee4285b730>"
            ],
            "text/html": [
              "<style type=\"text/css\">\n",
              "#T_43edf_row0_col0, #T_43edf_row0_col1, #T_43edf_row0_col2, #T_43edf_row0_col3, #T_43edf_row0_col4, #T_43edf_row0_col5, #T_43edf_row0_col6, #T_43edf_row0_col7, #T_43edf_row0_col8, #T_43edf_row0_col9, #T_43edf_row0_col10, #T_43edf_row0_col11, #T_43edf_row0_col12, #T_43edf_row0_col13, #T_43edf_row1_col0, #T_43edf_row1_col1, #T_43edf_row1_col2, #T_43edf_row1_col3, #T_43edf_row1_col4, #T_43edf_row1_col5, #T_43edf_row1_col6, #T_43edf_row1_col7, #T_43edf_row1_col8, #T_43edf_row1_col9, #T_43edf_row1_col10, #T_43edf_row1_col11, #T_43edf_row1_col12, #T_43edf_row1_col13, #T_43edf_row2_col0, #T_43edf_row2_col1, #T_43edf_row2_col2, #T_43edf_row2_col3, #T_43edf_row2_col4, #T_43edf_row2_col5, #T_43edf_row2_col6, #T_43edf_row2_col7, #T_43edf_row2_col8, #T_43edf_row2_col9, #T_43edf_row2_col10, #T_43edf_row2_col11, #T_43edf_row2_col12, #T_43edf_row2_col13, #T_43edf_row3_col0, #T_43edf_row3_col1, #T_43edf_row3_col2, #T_43edf_row3_col3, #T_43edf_row3_col4, #T_43edf_row3_col5, #T_43edf_row3_col6, #T_43edf_row3_col7, #T_43edf_row3_col8, #T_43edf_row3_col9, #T_43edf_row3_col10, #T_43edf_row3_col11, #T_43edf_row3_col12, #T_43edf_row3_col13, #T_43edf_row4_col0, #T_43edf_row4_col1, #T_43edf_row4_col2, #T_43edf_row4_col3, #T_43edf_row4_col4, #T_43edf_row4_col5, #T_43edf_row4_col6, #T_43edf_row4_col7, #T_43edf_row4_col8, #T_43edf_row4_col9, #T_43edf_row4_col10, #T_43edf_row4_col11, #T_43edf_row4_col12, #T_43edf_row4_col13 {\n",
              "  background_color: red;\n",
              "  color: green;\n",
              "  border_color: blue;\n",
              "}\n",
              "</style>\n",
              "<table id=\"T_43edf\" class=\"dataframe\">\n",
              "  <thead>\n",
              "    <tr>\n",
              "      <th class=\"blank level0\" >&nbsp;</th>\n",
              "      <th id=\"T_43edf_level0_col0\" class=\"col_heading level0 col0\" >age</th>\n",
              "      <th id=\"T_43edf_level0_col1\" class=\"col_heading level0 col1\" >sex</th>\n",
              "      <th id=\"T_43edf_level0_col2\" class=\"col_heading level0 col2\" >cp</th>\n",
              "      <th id=\"T_43edf_level0_col3\" class=\"col_heading level0 col3\" >trestbps</th>\n",
              "      <th id=\"T_43edf_level0_col4\" class=\"col_heading level0 col4\" >chol</th>\n",
              "      <th id=\"T_43edf_level0_col5\" class=\"col_heading level0 col5\" >fbs</th>\n",
              "      <th id=\"T_43edf_level0_col6\" class=\"col_heading level0 col6\" >restecg</th>\n",
              "      <th id=\"T_43edf_level0_col7\" class=\"col_heading level0 col7\" >thalach</th>\n",
              "      <th id=\"T_43edf_level0_col8\" class=\"col_heading level0 col8\" >exang</th>\n",
              "      <th id=\"T_43edf_level0_col9\" class=\"col_heading level0 col9\" >oldpeak</th>\n",
              "      <th id=\"T_43edf_level0_col10\" class=\"col_heading level0 col10\" >slope</th>\n",
              "      <th id=\"T_43edf_level0_col11\" class=\"col_heading level0 col11\" >ca</th>\n",
              "      <th id=\"T_43edf_level0_col12\" class=\"col_heading level0 col12\" >thal</th>\n",
              "      <th id=\"T_43edf_level0_col13\" class=\"col_heading level0 col13\" >target</th>\n",
              "    </tr>\n",
              "  </thead>\n",
              "  <tbody>\n",
              "    <tr>\n",
              "      <th id=\"T_43edf_level0_row0\" class=\"row_heading level0 row0\" >0</th>\n",
              "      <td id=\"T_43edf_row0_col0\" class=\"data row0 col0\" >52</td>\n",
              "      <td id=\"T_43edf_row0_col1\" class=\"data row0 col1\" >1</td>\n",
              "      <td id=\"T_43edf_row0_col2\" class=\"data row0 col2\" >0</td>\n",
              "      <td id=\"T_43edf_row0_col3\" class=\"data row0 col3\" >125</td>\n",
              "      <td id=\"T_43edf_row0_col4\" class=\"data row0 col4\" >212</td>\n",
              "      <td id=\"T_43edf_row0_col5\" class=\"data row0 col5\" >0</td>\n",
              "      <td id=\"T_43edf_row0_col6\" class=\"data row0 col6\" >1</td>\n",
              "      <td id=\"T_43edf_row0_col7\" class=\"data row0 col7\" >168</td>\n",
              "      <td id=\"T_43edf_row0_col8\" class=\"data row0 col8\" >0</td>\n",
              "      <td id=\"T_43edf_row0_col9\" class=\"data row0 col9\" >1.000000</td>\n",
              "      <td id=\"T_43edf_row0_col10\" class=\"data row0 col10\" >2</td>\n",
              "      <td id=\"T_43edf_row0_col11\" class=\"data row0 col11\" >2</td>\n",
              "      <td id=\"T_43edf_row0_col12\" class=\"data row0 col12\" >3</td>\n",
              "      <td id=\"T_43edf_row0_col13\" class=\"data row0 col13\" >0</td>\n",
              "    </tr>\n",
              "    <tr>\n",
              "      <th id=\"T_43edf_level0_row1\" class=\"row_heading level0 row1\" >1</th>\n",
              "      <td id=\"T_43edf_row1_col0\" class=\"data row1 col0\" >53</td>\n",
              "      <td id=\"T_43edf_row1_col1\" class=\"data row1 col1\" >1</td>\n",
              "      <td id=\"T_43edf_row1_col2\" class=\"data row1 col2\" >0</td>\n",
              "      <td id=\"T_43edf_row1_col3\" class=\"data row1 col3\" >140</td>\n",
              "      <td id=\"T_43edf_row1_col4\" class=\"data row1 col4\" >203</td>\n",
              "      <td id=\"T_43edf_row1_col5\" class=\"data row1 col5\" >1</td>\n",
              "      <td id=\"T_43edf_row1_col6\" class=\"data row1 col6\" >0</td>\n",
              "      <td id=\"T_43edf_row1_col7\" class=\"data row1 col7\" >155</td>\n",
              "      <td id=\"T_43edf_row1_col8\" class=\"data row1 col8\" >1</td>\n",
              "      <td id=\"T_43edf_row1_col9\" class=\"data row1 col9\" >3.100000</td>\n",
              "      <td id=\"T_43edf_row1_col10\" class=\"data row1 col10\" >0</td>\n",
              "      <td id=\"T_43edf_row1_col11\" class=\"data row1 col11\" >0</td>\n",
              "      <td id=\"T_43edf_row1_col12\" class=\"data row1 col12\" >3</td>\n",
              "      <td id=\"T_43edf_row1_col13\" class=\"data row1 col13\" >0</td>\n",
              "    </tr>\n",
              "    <tr>\n",
              "      <th id=\"T_43edf_level0_row2\" class=\"row_heading level0 row2\" >2</th>\n",
              "      <td id=\"T_43edf_row2_col0\" class=\"data row2 col0\" >70</td>\n",
              "      <td id=\"T_43edf_row2_col1\" class=\"data row2 col1\" >1</td>\n",
              "      <td id=\"T_43edf_row2_col2\" class=\"data row2 col2\" >0</td>\n",
              "      <td id=\"T_43edf_row2_col3\" class=\"data row2 col3\" >145</td>\n",
              "      <td id=\"T_43edf_row2_col4\" class=\"data row2 col4\" >174</td>\n",
              "      <td id=\"T_43edf_row2_col5\" class=\"data row2 col5\" >0</td>\n",
              "      <td id=\"T_43edf_row2_col6\" class=\"data row2 col6\" >1</td>\n",
              "      <td id=\"T_43edf_row2_col7\" class=\"data row2 col7\" >125</td>\n",
              "      <td id=\"T_43edf_row2_col8\" class=\"data row2 col8\" >1</td>\n",
              "      <td id=\"T_43edf_row2_col9\" class=\"data row2 col9\" >2.600000</td>\n",
              "      <td id=\"T_43edf_row2_col10\" class=\"data row2 col10\" >0</td>\n",
              "      <td id=\"T_43edf_row2_col11\" class=\"data row2 col11\" >0</td>\n",
              "      <td id=\"T_43edf_row2_col12\" class=\"data row2 col12\" >3</td>\n",
              "      <td id=\"T_43edf_row2_col13\" class=\"data row2 col13\" >0</td>\n",
              "    </tr>\n",
              "    <tr>\n",
              "      <th id=\"T_43edf_level0_row3\" class=\"row_heading level0 row3\" >3</th>\n",
              "      <td id=\"T_43edf_row3_col0\" class=\"data row3 col0\" >61</td>\n",
              "      <td id=\"T_43edf_row3_col1\" class=\"data row3 col1\" >1</td>\n",
              "      <td id=\"T_43edf_row3_col2\" class=\"data row3 col2\" >0</td>\n",
              "      <td id=\"T_43edf_row3_col3\" class=\"data row3 col3\" >148</td>\n",
              "      <td id=\"T_43edf_row3_col4\" class=\"data row3 col4\" >203</td>\n",
              "      <td id=\"T_43edf_row3_col5\" class=\"data row3 col5\" >0</td>\n",
              "      <td id=\"T_43edf_row3_col6\" class=\"data row3 col6\" >1</td>\n",
              "      <td id=\"T_43edf_row3_col7\" class=\"data row3 col7\" >161</td>\n",
              "      <td id=\"T_43edf_row3_col8\" class=\"data row3 col8\" >0</td>\n",
              "      <td id=\"T_43edf_row3_col9\" class=\"data row3 col9\" >0.000000</td>\n",
              "      <td id=\"T_43edf_row3_col10\" class=\"data row3 col10\" >2</td>\n",
              "      <td id=\"T_43edf_row3_col11\" class=\"data row3 col11\" >1</td>\n",
              "      <td id=\"T_43edf_row3_col12\" class=\"data row3 col12\" >3</td>\n",
              "      <td id=\"T_43edf_row3_col13\" class=\"data row3 col13\" >0</td>\n",
              "    </tr>\n",
              "    <tr>\n",
              "      <th id=\"T_43edf_level0_row4\" class=\"row_heading level0 row4\" >4</th>\n",
              "      <td id=\"T_43edf_row4_col0\" class=\"data row4 col0\" >62</td>\n",
              "      <td id=\"T_43edf_row4_col1\" class=\"data row4 col1\" >0</td>\n",
              "      <td id=\"T_43edf_row4_col2\" class=\"data row4 col2\" >0</td>\n",
              "      <td id=\"T_43edf_row4_col3\" class=\"data row4 col3\" >138</td>\n",
              "      <td id=\"T_43edf_row4_col4\" class=\"data row4 col4\" >294</td>\n",
              "      <td id=\"T_43edf_row4_col5\" class=\"data row4 col5\" >1</td>\n",
              "      <td id=\"T_43edf_row4_col6\" class=\"data row4 col6\" >1</td>\n",
              "      <td id=\"T_43edf_row4_col7\" class=\"data row4 col7\" >106</td>\n",
              "      <td id=\"T_43edf_row4_col8\" class=\"data row4 col8\" >0</td>\n",
              "      <td id=\"T_43edf_row4_col9\" class=\"data row4 col9\" >1.900000</td>\n",
              "      <td id=\"T_43edf_row4_col10\" class=\"data row4 col10\" >1</td>\n",
              "      <td id=\"T_43edf_row4_col11\" class=\"data row4 col11\" >3</td>\n",
              "      <td id=\"T_43edf_row4_col12\" class=\"data row4 col12\" >2</td>\n",
              "      <td id=\"T_43edf_row4_col13\" class=\"data row4 col13\" >0</td>\n",
              "    </tr>\n",
              "  </tbody>\n",
              "</table>\n"
            ]
          },
          "metadata": {},
          "execution_count": 14
        }
      ],
      "source": [
        "df.head().style.set_properties(**{'background_color': 'red' ,'color':'green' ,'border_color':'blue' })"
      ]
    },
    {
      "cell_type": "code",
      "execution_count": null,
      "metadata": {
        "colab": {
          "base_uri": "https://localhost:8080/"
        },
        "id": "Z6ZDg1v8KCat",
        "outputId": "b46a1d23-c461-49c0-ed6e-7ac171abb68c"
      },
      "outputs": [
        {
          "output_type": "execute_result",
          "data": {
            "text/plain": [
              "Index(['age', 'sex', 'cp', 'trestbps', 'chol', 'fbs', 'restecg', 'thalach',\n",
              "       'exang', 'oldpeak', 'slope', 'ca', 'thal', 'target'],\n",
              "      dtype='object')"
            ]
          },
          "metadata": {},
          "execution_count": 13
        }
      ],
      "source": [
        "df.columns"
      ]
    },
    {
      "cell_type": "code",
      "execution_count": null,
      "metadata": {
        "colab": {
          "base_uri": "https://localhost:8080/"
        },
        "id": "ogRUmN0ClFVe",
        "outputId": "301c3e29-4874-42fb-81a4-866c9d27024e"
      },
      "outputs": [
        {
          "output_type": "stream",
          "name": "stdout",
          "text": [
            "      age  sex  cp  trestbps  chol  fbs  restecg  thalach  exang  oldpeak  \\\n",
            "0      52    1   0       125   212    0        1      168      0      1.0   \n",
            "1      53    1   0       140   203    1        0      155      1      3.1   \n",
            "2      70    1   0       145   174    0        1      125      1      2.6   \n",
            "3      61    1   0       148   203    0        1      161      0      0.0   \n",
            "4      62    0   0       138   294    1        1      106      0      1.9   \n",
            "...   ...  ...  ..       ...   ...  ...      ...      ...    ...      ...   \n",
            "1020   59    1   1       140   221    0        1      164      1      0.0   \n",
            "1021   60    1   0       125   258    0        0      141      1      2.8   \n",
            "1022   47    1   0       110   275    0        0      118      1      1.0   \n",
            "1023   50    0   0       110   254    0        0      159      0      0.0   \n",
            "1024   54    1   0       120   188    0        1      113      0      1.4   \n",
            "\n",
            "      slope  ca  thal  target  \n",
            "0         2   2     3       0  \n",
            "1         0   0     3       0  \n",
            "2         0   0     3       0  \n",
            "3         2   1     3       0  \n",
            "4         1   3     2       0  \n",
            "...     ...  ..   ...     ...  \n",
            "1020      2   0     2       1  \n",
            "1021      1   1     3       0  \n",
            "1022      1   1     2       0  \n",
            "1023      2   0     2       1  \n",
            "1024      1   1     3       0  \n",
            "\n",
            "[1025 rows x 14 columns]\n"
          ]
        }
      ],
      "source": [
        "print(df)"
      ]
    },
    {
      "cell_type": "code",
      "execution_count": null,
      "metadata": {
        "id": "G3hnHVWydMOi"
      },
      "outputs": [],
      "source": [
        "df2=df.copy()"
      ]
    },
    {
      "cell_type": "markdown",
      "metadata": {
        "id": "MBKsfA6tc6pF"
      },
      "source": [
        "#Data Wrangling"
      ]
    },
    {
      "cell_type": "markdown",
      "metadata": {
        "id": "F-nFApEDdRU-"
      },
      "source": [
        "1)Computing the size of dataset\n"
      ]
    },
    {
      "cell_type": "code",
      "execution_count": null,
      "metadata": {
        "colab": {
          "base_uri": "https://localhost:8080/"
        },
        "id": "KLcgMgtHc53_",
        "outputId": "5fd32fc7-cf16-434d-8dec-5d198b55365c"
      },
      "outputs": [
        {
          "output_type": "stream",
          "name": "stdout",
          "text": [
            "The shape of data frame: (1025, 14)\n",
            "Number of Rows in the dataframe: 1025\n",
            "Number of Columns in the dataframe: 14\n"
          ]
        }
      ],
      "source": [
        "print(\"The shape of data frame:\", df2.shape)\n",
        "# Print the length (number of rows) of the DataFrame\n",
        "print(\"Number of Rows in the dataframe:\", len(df2))\n",
        "# Print the number of columns in the DataFrame\n",
        "print(\"Number of Columns in the dataframe:\", len(df2.columns))"
      ]
    },
    {
      "cell_type": "markdown",
      "metadata": {
        "id": "EH9HgfYKeVQ_"
      },
      "source": [
        "2) Enlist the columns of dataset"
      ]
    },
    {
      "cell_type": "code",
      "execution_count": null,
      "metadata": {
        "colab": {
          "base_uri": "https://localhost:8080/"
        },
        "id": "6qKL67w9eZO8",
        "outputId": "623e28c7-4b6c-4c3d-b96b-534aeb4a4fd3"
      },
      "outputs": [
        {
          "output_type": "stream",
          "name": "stdout",
          "text": [
            "Team:- The Analyzers\n",
            "Columns labels in datset in columns order\n",
            "age\n",
            "sex\n",
            "cp\n",
            "trestbps\n",
            "chol\n",
            "fbs\n",
            "restecg\n",
            "thalach\n",
            "exang\n",
            "oldpeak\n",
            "slope\n",
            "ca\n",
            "thal\n",
            "target\n"
          ]
        }
      ],
      "source": [
        "print(\"Team:- The Analyzers\")\n",
        "print ('Columns labels in datset in columns order')\n",
        "for column in df2.columns:\n",
        "  print(column)"
      ]
    },
    {
      "cell_type": "markdown",
      "metadata": {
        "id": "s4JOK2WEf69I"
      },
      "source": [
        "3) Generating Basic information of Attributes"
      ]
    },
    {
      "cell_type": "code",
      "execution_count": null,
      "metadata": {
        "colab": {
          "base_uri": "https://localhost:8080/"
        },
        "id": "Zdla29dIe20Z",
        "outputId": "72aa3f62-0215-495d-9050-fd5077e6857a"
      },
      "outputs": [
        {
          "output_type": "stream",
          "name": "stdout",
          "text": [
            "<class 'pandas.core.frame.DataFrame'>\n",
            "RangeIndex: 1025 entries, 0 to 1024\n",
            "Data columns (total 14 columns):\n",
            " #   Column    Non-Null Count  Dtype  \n",
            "---  ------    --------------  -----  \n",
            " 0   age       1025 non-null   int64  \n",
            " 1   sex       1025 non-null   int64  \n",
            " 2   cp        1025 non-null   int64  \n",
            " 3   trestbps  1025 non-null   int64  \n",
            " 4   chol      1025 non-null   int64  \n",
            " 5   fbs       1025 non-null   int64  \n",
            " 6   restecg   1025 non-null   int64  \n",
            " 7   thalach   1025 non-null   int64  \n",
            " 8   exang     1025 non-null   int64  \n",
            " 9   oldpeak   1025 non-null   float64\n",
            " 10  slope     1025 non-null   int64  \n",
            " 11  ca        1025 non-null   int64  \n",
            " 12  thal      1025 non-null   int64  \n",
            " 13  target    1025 non-null   int64  \n",
            "dtypes: float64(1), int64(13)\n",
            "memory usage: 112.2 KB\n",
            "None\n"
          ]
        }
      ],
      "source": [
        "print(df2.info(verbose = True))"
      ]
    },
    {
      "cell_type": "markdown",
      "metadata": {
        "id": "uxPz5FckVqGY"
      },
      "source": [
        "4)Check Duplicates"
      ]
    },
    {
      "cell_type": "code",
      "execution_count": null,
      "metadata": {
        "colab": {
          "base_uri": "https://localhost:8080/"
        },
        "id": "CBgTzv2pVJol",
        "outputId": "99970e74-1eb0-4baa-f52c-e6e8ed1844aa"
      },
      "outputs": [
        {
          "output_type": "stream",
          "name": "stdout",
          "text": [
            "Team:- The Analyzers\n",
            "True\n"
          ]
        }
      ],
      "source": [
        "print(\"Team:- The Analyzers\")\n",
        "data_dup=df2.duplicated().any()\n",
        "print(data_dup)"
      ]
    },
    {
      "cell_type": "markdown",
      "metadata": {
        "id": "Qa4Y1IFMVxCy"
      },
      "source": [
        "5) Drop Duplicates\n"
      ]
    },
    {
      "cell_type": "code",
      "execution_count": null,
      "metadata": {
        "id": "Qw0q3GFuVZSe"
      },
      "outputs": [],
      "source": [
        "df2=df2.drop_duplicates()"
      ]
    },
    {
      "cell_type": "code",
      "execution_count": null,
      "metadata": {
        "colab": {
          "base_uri": "https://localhost:8080/"
        },
        "id": "RasgOQN6VklI",
        "outputId": "5d61b918-e89b-4665-98e0-b1af14400a6c"
      },
      "outputs": [
        {
          "output_type": "execute_result",
          "data": {
            "text/plain": [
              "(302, 14)"
            ]
          },
          "metadata": {},
          "execution_count": 33
        }
      ],
      "source": [
        "df2.shape"
      ]
    },
    {
      "cell_type": "code",
      "source": [
        "data_dup=df2.duplicated().any()\n",
        "print(data_dup)"
      ],
      "metadata": {
        "colab": {
          "base_uri": "https://localhost:8080/"
        },
        "id": "out7XqD_11Dm",
        "outputId": "049313b0-0699-47fb-d6ff-14e10a822b2e"
      },
      "execution_count": null,
      "outputs": [
        {
          "output_type": "stream",
          "name": "stdout",
          "text": [
            "False\n"
          ]
        }
      ]
    },
    {
      "cell_type": "markdown",
      "metadata": {
        "id": "xoMuKIXwUp0g"
      },
      "source": [
        "6) Enlist numerical feature"
      ]
    },
    {
      "cell_type": "code",
      "execution_count": null,
      "metadata": {
        "colab": {
          "base_uri": "https://localhost:8080/",
          "height": 206
        },
        "id": "U3-Tc0kqhGHB",
        "outputId": "ba034270-ea79-4185-b000-745f3586746c"
      },
      "outputs": [
        {
          "data": {
            "text/html": [
              "<style type=\"text/css\">\n",
              "#T_d81e0_row0_col0, #T_d81e0_row0_col1, #T_d81e0_row0_col2, #T_d81e0_row0_col3, #T_d81e0_row0_col4, #T_d81e0_row0_col5, #T_d81e0_row0_col6, #T_d81e0_row0_col7, #T_d81e0_row0_col8, #T_d81e0_row0_col9, #T_d81e0_row0_col10, #T_d81e0_row0_col11, #T_d81e0_row0_col12, #T_d81e0_row0_col13, #T_d81e0_row1_col0, #T_d81e0_row1_col1, #T_d81e0_row1_col2, #T_d81e0_row1_col3, #T_d81e0_row1_col4, #T_d81e0_row1_col5, #T_d81e0_row1_col6, #T_d81e0_row1_col7, #T_d81e0_row1_col8, #T_d81e0_row1_col9, #T_d81e0_row1_col10, #T_d81e0_row1_col11, #T_d81e0_row1_col12, #T_d81e0_row1_col13, #T_d81e0_row2_col0, #T_d81e0_row2_col1, #T_d81e0_row2_col2, #T_d81e0_row2_col3, #T_d81e0_row2_col4, #T_d81e0_row2_col5, #T_d81e0_row2_col6, #T_d81e0_row2_col7, #T_d81e0_row2_col8, #T_d81e0_row2_col9, #T_d81e0_row2_col10, #T_d81e0_row2_col11, #T_d81e0_row2_col12, #T_d81e0_row2_col13, #T_d81e0_row3_col0, #T_d81e0_row3_col1, #T_d81e0_row3_col2, #T_d81e0_row3_col3, #T_d81e0_row3_col4, #T_d81e0_row3_col5, #T_d81e0_row3_col6, #T_d81e0_row3_col7, #T_d81e0_row3_col8, #T_d81e0_row3_col9, #T_d81e0_row3_col10, #T_d81e0_row3_col11, #T_d81e0_row3_col12, #T_d81e0_row3_col13, #T_d81e0_row4_col0, #T_d81e0_row4_col1, #T_d81e0_row4_col2, #T_d81e0_row4_col3, #T_d81e0_row4_col4, #T_d81e0_row4_col5, #T_d81e0_row4_col6, #T_d81e0_row4_col7, #T_d81e0_row4_col8, #T_d81e0_row4_col9, #T_d81e0_row4_col10, #T_d81e0_row4_col11, #T_d81e0_row4_col12, #T_d81e0_row4_col13 {\n",
              "  background-color: #E9F6E2;\n",
              "  color: green;\n",
              "  border-color: #8b8c8c;\n",
              "}\n",
              "</style>\n",
              "<table id=\"T_d81e0\" class=\"dataframe\">\n",
              "  <thead>\n",
              "    <tr>\n",
              "      <th class=\"blank level0\" >&nbsp;</th>\n",
              "      <th id=\"T_d81e0_level0_col0\" class=\"col_heading level0 col0\" >age</th>\n",
              "      <th id=\"T_d81e0_level0_col1\" class=\"col_heading level0 col1\" >sex</th>\n",
              "      <th id=\"T_d81e0_level0_col2\" class=\"col_heading level0 col2\" >cp</th>\n",
              "      <th id=\"T_d81e0_level0_col3\" class=\"col_heading level0 col3\" >trestbps</th>\n",
              "      <th id=\"T_d81e0_level0_col4\" class=\"col_heading level0 col4\" >chol</th>\n",
              "      <th id=\"T_d81e0_level0_col5\" class=\"col_heading level0 col5\" >fbs</th>\n",
              "      <th id=\"T_d81e0_level0_col6\" class=\"col_heading level0 col6\" >restecg</th>\n",
              "      <th id=\"T_d81e0_level0_col7\" class=\"col_heading level0 col7\" >thalach</th>\n",
              "      <th id=\"T_d81e0_level0_col8\" class=\"col_heading level0 col8\" >exang</th>\n",
              "      <th id=\"T_d81e0_level0_col9\" class=\"col_heading level0 col9\" >oldpeak</th>\n",
              "      <th id=\"T_d81e0_level0_col10\" class=\"col_heading level0 col10\" >slope</th>\n",
              "      <th id=\"T_d81e0_level0_col11\" class=\"col_heading level0 col11\" >ca</th>\n",
              "      <th id=\"T_d81e0_level0_col12\" class=\"col_heading level0 col12\" >thal</th>\n",
              "      <th id=\"T_d81e0_level0_col13\" class=\"col_heading level0 col13\" >target</th>\n",
              "    </tr>\n",
              "  </thead>\n",
              "  <tbody>\n",
              "    <tr>\n",
              "      <th id=\"T_d81e0_level0_row0\" class=\"row_heading level0 row0\" >521</th>\n",
              "      <td id=\"T_d81e0_row0_col0\" class=\"data row0 col0\" >58</td>\n",
              "      <td id=\"T_d81e0_row0_col1\" class=\"data row0 col1\" >1</td>\n",
              "      <td id=\"T_d81e0_row0_col2\" class=\"data row0 col2\" >1</td>\n",
              "      <td id=\"T_d81e0_row0_col3\" class=\"data row0 col3\" >125</td>\n",
              "      <td id=\"T_d81e0_row0_col4\" class=\"data row0 col4\" >220</td>\n",
              "      <td id=\"T_d81e0_row0_col5\" class=\"data row0 col5\" >0</td>\n",
              "      <td id=\"T_d81e0_row0_col6\" class=\"data row0 col6\" >1</td>\n",
              "      <td id=\"T_d81e0_row0_col7\" class=\"data row0 col7\" >144</td>\n",
              "      <td id=\"T_d81e0_row0_col8\" class=\"data row0 col8\" >0</td>\n",
              "      <td id=\"T_d81e0_row0_col9\" class=\"data row0 col9\" >0.400000</td>\n",
              "      <td id=\"T_d81e0_row0_col10\" class=\"data row0 col10\" >1</td>\n",
              "      <td id=\"T_d81e0_row0_col11\" class=\"data row0 col11\" >4</td>\n",
              "      <td id=\"T_d81e0_row0_col12\" class=\"data row0 col12\" >3</td>\n",
              "      <td id=\"T_d81e0_row0_col13\" class=\"data row0 col13\" >1</td>\n",
              "    </tr>\n",
              "    <tr>\n",
              "      <th id=\"T_d81e0_level0_row1\" class=\"row_heading level0 row1\" >244</th>\n",
              "      <td id=\"T_d81e0_row1_col0\" class=\"data row1 col0\" >51</td>\n",
              "      <td id=\"T_d81e0_row1_col1\" class=\"data row1 col1\" >1</td>\n",
              "      <td id=\"T_d81e0_row1_col2\" class=\"data row1 col2\" >2</td>\n",
              "      <td id=\"T_d81e0_row1_col3\" class=\"data row1 col3\" >125</td>\n",
              "      <td id=\"T_d81e0_row1_col4\" class=\"data row1 col4\" >245</td>\n",
              "      <td id=\"T_d81e0_row1_col5\" class=\"data row1 col5\" >1</td>\n",
              "      <td id=\"T_d81e0_row1_col6\" class=\"data row1 col6\" >0</td>\n",
              "      <td id=\"T_d81e0_row1_col7\" class=\"data row1 col7\" >166</td>\n",
              "      <td id=\"T_d81e0_row1_col8\" class=\"data row1 col8\" >0</td>\n",
              "      <td id=\"T_d81e0_row1_col9\" class=\"data row1 col9\" >2.400000</td>\n",
              "      <td id=\"T_d81e0_row1_col10\" class=\"data row1 col10\" >1</td>\n",
              "      <td id=\"T_d81e0_row1_col11\" class=\"data row1 col11\" >0</td>\n",
              "      <td id=\"T_d81e0_row1_col12\" class=\"data row1 col12\" >2</td>\n",
              "      <td id=\"T_d81e0_row1_col13\" class=\"data row1 col13\" >1</td>\n",
              "    </tr>\n",
              "    <tr>\n",
              "      <th id=\"T_d81e0_level0_row2\" class=\"row_heading level0 row2\" >234</th>\n",
              "      <td id=\"T_d81e0_row2_col0\" class=\"data row2 col0\" >49</td>\n",
              "      <td id=\"T_d81e0_row2_col1\" class=\"data row2 col1\" >0</td>\n",
              "      <td id=\"T_d81e0_row2_col2\" class=\"data row2 col2\" >0</td>\n",
              "      <td id=\"T_d81e0_row2_col3\" class=\"data row2 col3\" >130</td>\n",
              "      <td id=\"T_d81e0_row2_col4\" class=\"data row2 col4\" >269</td>\n",
              "      <td id=\"T_d81e0_row2_col5\" class=\"data row2 col5\" >0</td>\n",
              "      <td id=\"T_d81e0_row2_col6\" class=\"data row2 col6\" >1</td>\n",
              "      <td id=\"T_d81e0_row2_col7\" class=\"data row2 col7\" >163</td>\n",
              "      <td id=\"T_d81e0_row2_col8\" class=\"data row2 col8\" >0</td>\n",
              "      <td id=\"T_d81e0_row2_col9\" class=\"data row2 col9\" >0.000000</td>\n",
              "      <td id=\"T_d81e0_row2_col10\" class=\"data row2 col10\" >2</td>\n",
              "      <td id=\"T_d81e0_row2_col11\" class=\"data row2 col11\" >0</td>\n",
              "      <td id=\"T_d81e0_row2_col12\" class=\"data row2 col12\" >2</td>\n",
              "      <td id=\"T_d81e0_row2_col13\" class=\"data row2 col13\" >1</td>\n",
              "    </tr>\n",
              "    <tr>\n",
              "      <th id=\"T_d81e0_level0_row3\" class=\"row_heading level0 row3\" >111</th>\n",
              "      <td id=\"T_d81e0_row3_col0\" class=\"data row3 col0\" >53</td>\n",
              "      <td id=\"T_d81e0_row3_col1\" class=\"data row3 col1\" >1</td>\n",
              "      <td id=\"T_d81e0_row3_col2\" class=\"data row3 col2\" >0</td>\n",
              "      <td id=\"T_d81e0_row3_col3\" class=\"data row3 col3\" >142</td>\n",
              "      <td id=\"T_d81e0_row3_col4\" class=\"data row3 col4\" >226</td>\n",
              "      <td id=\"T_d81e0_row3_col5\" class=\"data row3 col5\" >0</td>\n",
              "      <td id=\"T_d81e0_row3_col6\" class=\"data row3 col6\" >0</td>\n",
              "      <td id=\"T_d81e0_row3_col7\" class=\"data row3 col7\" >111</td>\n",
              "      <td id=\"T_d81e0_row3_col8\" class=\"data row3 col8\" >1</td>\n",
              "      <td id=\"T_d81e0_row3_col9\" class=\"data row3 col9\" >0.000000</td>\n",
              "      <td id=\"T_d81e0_row3_col10\" class=\"data row3 col10\" >2</td>\n",
              "      <td id=\"T_d81e0_row3_col11\" class=\"data row3 col11\" >0</td>\n",
              "      <td id=\"T_d81e0_row3_col12\" class=\"data row3 col12\" >3</td>\n",
              "      <td id=\"T_d81e0_row3_col13\" class=\"data row3 col13\" >1</td>\n",
              "    </tr>\n",
              "    <tr>\n",
              "      <th id=\"T_d81e0_level0_row4\" class=\"row_heading level0 row4\" >369</th>\n",
              "      <td id=\"T_d81e0_row4_col0\" class=\"data row4 col0\" >51</td>\n",
              "      <td id=\"T_d81e0_row4_col1\" class=\"data row4 col1\" >1</td>\n",
              "      <td id=\"T_d81e0_row4_col2\" class=\"data row4 col2\" >2</td>\n",
              "      <td id=\"T_d81e0_row4_col3\" class=\"data row4 col3\" >110</td>\n",
              "      <td id=\"T_d81e0_row4_col4\" class=\"data row4 col4\" >175</td>\n",
              "      <td id=\"T_d81e0_row4_col5\" class=\"data row4 col5\" >0</td>\n",
              "      <td id=\"T_d81e0_row4_col6\" class=\"data row4 col6\" >1</td>\n",
              "      <td id=\"T_d81e0_row4_col7\" class=\"data row4 col7\" >123</td>\n",
              "      <td id=\"T_d81e0_row4_col8\" class=\"data row4 col8\" >0</td>\n",
              "      <td id=\"T_d81e0_row4_col9\" class=\"data row4 col9\" >0.600000</td>\n",
              "      <td id=\"T_d81e0_row4_col10\" class=\"data row4 col10\" >2</td>\n",
              "      <td id=\"T_d81e0_row4_col11\" class=\"data row4 col11\" >0</td>\n",
              "      <td id=\"T_d81e0_row4_col12\" class=\"data row4 col12\" >2</td>\n",
              "      <td id=\"T_d81e0_row4_col13\" class=\"data row4 col13\" >1</td>\n",
              "    </tr>\n",
              "  </tbody>\n",
              "</table>\n"
            ],
            "text/plain": [
              "<pandas.io.formats.style.Styler at 0x7e0c1bca37c0>"
            ]
          },
          "execution_count": 16,
          "metadata": {},
          "output_type": "execute_result"
        }
      ],
      "source": [
        "df2.select_dtypes(np.number).sample(5).style.set_properties(**{'background-color': '#E9F6E2',\n",
        "                                                              'color': 'green','border-color': '#8b8c8c'})"
      ]
    },
    {
      "cell_type": "markdown",
      "metadata": {
        "id": "TbNebsjNW8a5"
      },
      "source": [
        "####Value count of attribute"
      ]
    },
    {
      "cell_type": "code",
      "execution_count": null,
      "metadata": {
        "colab": {
          "base_uri": "https://localhost:8080/",
          "height": 241
        },
        "id": "PvQgR9Fxn8Hv",
        "outputId": "ac86ace2-1ff8-477d-a45b-71a147ba82dd"
      },
      "outputs": [
        {
          "data": {
            "text/html": [
              "<table border=\"1\" class=\"dataframe\">\n",
              "  <thead>\n",
              "    <tr style=\"text-align: right;\">\n",
              "      <th></th>\n",
              "      <th>count</th>\n",
              "    </tr>\n",
              "    <tr>\n",
              "      <th>cp</th>\n",
              "      <th></th>\n",
              "    </tr>\n",
              "  </thead>\n",
              "  <tbody>\n",
              "    <tr>\n",
              "      <th>0</th>\n",
              "      <td>143</td>\n",
              "    </tr>\n",
              "    <tr>\n",
              "      <th>2</th>\n",
              "      <td>86</td>\n",
              "    </tr>\n",
              "    <tr>\n",
              "      <th>1</th>\n",
              "      <td>50</td>\n",
              "    </tr>\n",
              "    <tr>\n",
              "      <th>3</th>\n",
              "      <td>23</td>\n",
              "    </tr>\n",
              "  </tbody>\n",
              "</table><br><label><b>dtype:</b> int64</label>"
            ],
            "text/plain": [
              "cp\n",
              "0    143\n",
              "2     86\n",
              "1     50\n",
              "3     23\n",
              "Name: count, dtype: int64"
            ]
          },
          "execution_count": 17,
          "metadata": {},
          "output_type": "execute_result"
        }
      ],
      "source": [
        "df2['cp'].value_counts()\n"
      ]
    },
    {
      "cell_type": "code",
      "execution_count": null,
      "metadata": {
        "colab": {
          "base_uri": "https://localhost:8080/",
          "height": 241
        },
        "id": "FElJexIYXRTO",
        "outputId": "77d7e561-14e6-4578-8688-26a59ea5f13b"
      },
      "outputs": [
        {
          "data": {
            "text/html": [
              "<table border=\"1\" class=\"dataframe\">\n",
              "  <thead>\n",
              "    <tr style=\"text-align: right;\">\n",
              "      <th></th>\n",
              "      <th>count</th>\n",
              "    </tr>\n",
              "    <tr>\n",
              "      <th>thal</th>\n",
              "      <th></th>\n",
              "    </tr>\n",
              "  </thead>\n",
              "  <tbody>\n",
              "    <tr>\n",
              "      <th>2</th>\n",
              "      <td>165</td>\n",
              "    </tr>\n",
              "    <tr>\n",
              "      <th>3</th>\n",
              "      <td>117</td>\n",
              "    </tr>\n",
              "    <tr>\n",
              "      <th>1</th>\n",
              "      <td>18</td>\n",
              "    </tr>\n",
              "    <tr>\n",
              "      <th>0</th>\n",
              "      <td>2</td>\n",
              "    </tr>\n",
              "  </tbody>\n",
              "</table><br><label><b>dtype:</b> int64</label>"
            ],
            "text/plain": [
              "thal\n",
              "2    165\n",
              "3    117\n",
              "1     18\n",
              "0      2\n",
              "Name: count, dtype: int64"
            ]
          },
          "execution_count": 18,
          "metadata": {},
          "output_type": "execute_result"
        }
      ],
      "source": [
        "df2['thal'].value_counts()\n"
      ]
    },
    {
      "cell_type": "code",
      "execution_count": null,
      "metadata": {
        "colab": {
          "base_uri": "https://localhost:8080/",
          "height": 272
        },
        "id": "PxwTKvSCZBru",
        "outputId": "d33efa93-061b-4402-8fc4-ba1957f12658"
      },
      "outputs": [
        {
          "data": {
            "text/html": [
              "<table border=\"1\" class=\"dataframe\">\n",
              "  <thead>\n",
              "    <tr style=\"text-align: right;\">\n",
              "      <th></th>\n",
              "      <th>count</th>\n",
              "    </tr>\n",
              "    <tr>\n",
              "      <th>ca</th>\n",
              "      <th></th>\n",
              "    </tr>\n",
              "  </thead>\n",
              "  <tbody>\n",
              "    <tr>\n",
              "      <th>0</th>\n",
              "      <td>175</td>\n",
              "    </tr>\n",
              "    <tr>\n",
              "      <th>1</th>\n",
              "      <td>65</td>\n",
              "    </tr>\n",
              "    <tr>\n",
              "      <th>2</th>\n",
              "      <td>38</td>\n",
              "    </tr>\n",
              "    <tr>\n",
              "      <th>3</th>\n",
              "      <td>20</td>\n",
              "    </tr>\n",
              "    <tr>\n",
              "      <th>4</th>\n",
              "      <td>4</td>\n",
              "    </tr>\n",
              "  </tbody>\n",
              "</table><br><label><b>dtype:</b> int64</label>"
            ],
            "text/plain": [
              "ca\n",
              "0    175\n",
              "1     65\n",
              "2     38\n",
              "3     20\n",
              "4      4\n",
              "Name: count, dtype: int64"
            ]
          },
          "execution_count": 19,
          "metadata": {},
          "output_type": "execute_result"
        }
      ],
      "source": [
        "df2['ca'].value_counts()\n"
      ]
    },
    {
      "cell_type": "code",
      "execution_count": null,
      "metadata": {
        "colab": {
          "base_uri": "https://localhost:8080/",
          "height": 178
        },
        "id": "BCksGA6tvKoo",
        "outputId": "9a2dd8a6-4cc2-4d7d-b7dd-0387bd686d3f"
      },
      "outputs": [
        {
          "data": {
            "text/html": [
              "<table border=\"1\" class=\"dataframe\">\n",
              "  <thead>\n",
              "    <tr style=\"text-align: right;\">\n",
              "      <th></th>\n",
              "      <th>count</th>\n",
              "    </tr>\n",
              "    <tr>\n",
              "      <th>target</th>\n",
              "      <th></th>\n",
              "    </tr>\n",
              "  </thead>\n",
              "  <tbody>\n",
              "    <tr>\n",
              "      <th>1</th>\n",
              "      <td>164</td>\n",
              "    </tr>\n",
              "    <tr>\n",
              "      <th>0</th>\n",
              "      <td>138</td>\n",
              "    </tr>\n",
              "  </tbody>\n",
              "</table><br><label><b>dtype:</b> int64</label>"
            ],
            "text/plain": [
              "target\n",
              "1    164\n",
              "0    138\n",
              "Name: count, dtype: int64"
            ]
          },
          "execution_count": 20,
          "metadata": {},
          "output_type": "execute_result"
        }
      ],
      "source": [
        "df2['target'].value_counts()\n"
      ]
    },
    {
      "cell_type": "code",
      "execution_count": null,
      "metadata": {
        "colab": {
          "base_uri": "https://localhost:8080/",
          "height": 488
        },
        "id": "y9mzJuA2XCIT",
        "outputId": "b1d6dbb9-4fe8-44c4-a042-ab7e31410f53"
      },
      "outputs": [
        {
          "data": {
            "application/vnd.google.colaboratory.intrinsic+json": {
              "summary": "{\n  \"name\": \"df2\",\n  \"rows\": 14,\n  \"fields\": [\n    {\n      \"column\": \"count\",\n      \"properties\": {\n        \"dtype\": \"number\",\n        \"std\": 0.0,\n        \"min\": 302.0,\n        \"max\": 302.0,\n        \"num_unique_values\": 1,\n        \"samples\": [\n          302.0\n        ],\n        \"semantic_type\": \"\",\n        \"description\": \"\"\n      }\n    },\n    {\n      \"column\": \"mean\",\n      \"properties\": {\n        \"dtype\": \"number\",\n        \"std\": 77.70601318653827,\n        \"min\": 0.1490066225165563,\n        \"max\": 246.5,\n        \"num_unique_values\": 14,\n        \"samples\": [\n          1.0430463576158941\n        ],\n        \"semantic_type\": \"\",\n        \"description\": \"\"\n      }\n    },\n    {\n      \"column\": \"std\",\n      \"properties\": {\n        \"dtype\": \"number\",\n        \"std\": 14.584541915767092,\n        \"min\": 0.3566860293648133,\n        \"max\": 51.75348865574056,\n        \"num_unique_values\": 14,\n        \"samples\": [\n          1.1614522890634562\n        ],\n        \"semantic_type\": \"\",\n        \"description\": \"\"\n      }\n    },\n    {\n      \"column\": \"min\",\n      \"properties\": {\n        \"dtype\": \"number\",\n        \"std\": 42.31722170402085,\n        \"min\": 0.0,\n        \"max\": 126.0,\n        \"num_unique_values\": 5,\n        \"samples\": [\n          0.0\n        ],\n        \"semantic_type\": \"\",\n        \"description\": \"\"\n      }\n    },\n    {\n      \"column\": \"25%\",\n      \"properties\": {\n        \"dtype\": \"number\",\n        \"std\": 67.9493716059858,\n        \"min\": 0.0,\n        \"max\": 211.0,\n        \"num_unique_values\": 7,\n        \"samples\": [\n          48.0\n        ],\n        \"semantic_type\": \"\",\n        \"description\": \"\"\n      }\n    },\n    {\n      \"column\": \"50%\",\n      \"properties\": {\n        \"dtype\": \"number\",\n        \"std\": 76.72778233741401,\n        \"min\": 0.0,\n        \"max\": 240.5,\n        \"num_unique_values\": 8,\n        \"samples\": [\n          1.0\n        ],\n        \"semantic_type\": \"\",\n        \"description\": \"\"\n      }\n    },\n    {\n      \"column\": \"75%\",\n      \"properties\": {\n        \"dtype\": \"number\",\n        \"std\": 85.80466227823123,\n        \"min\": 0.0,\n        \"max\": 274.75,\n        \"num_unique_values\": 9,\n        \"samples\": [\n          1.6\n        ],\n        \"semantic_type\": \"\",\n        \"description\": \"\"\n      }\n    },\n    {\n      \"column\": \"max\",\n      \"properties\": {\n        \"dtype\": \"number\",\n        \"std\": 157.76377388883787,\n        \"min\": 1.0,\n        \"max\": 564.0,\n        \"num_unique_values\": 9,\n        \"samples\": [\n          6.2\n        ],\n        \"semantic_type\": \"\",\n        \"description\": \"\"\n      }\n    }\n  ]\n}",
              "type": "dataframe"
            },
            "text/html": [
              "\n",
              "  <div id=\"df-9c8d3860-e4d0-490c-8fba-96d32799b9e5\" class=\"colab-df-container\">\n",
              "    <div>\n",
              "<style scoped>\n",
              "    .dataframe tbody tr th:only-of-type {\n",
              "        vertical-align: middle;\n",
              "    }\n",
              "\n",
              "    .dataframe tbody tr th {\n",
              "        vertical-align: top;\n",
              "    }\n",
              "\n",
              "    .dataframe thead th {\n",
              "        text-align: right;\n",
              "    }\n",
              "</style>\n",
              "<table border=\"1\" class=\"dataframe\">\n",
              "  <thead>\n",
              "    <tr style=\"text-align: right;\">\n",
              "      <th></th>\n",
              "      <th>count</th>\n",
              "      <th>mean</th>\n",
              "      <th>std</th>\n",
              "      <th>min</th>\n",
              "      <th>25%</th>\n",
              "      <th>50%</th>\n",
              "      <th>75%</th>\n",
              "      <th>max</th>\n",
              "    </tr>\n",
              "  </thead>\n",
              "  <tbody>\n",
              "    <tr>\n",
              "      <th>age</th>\n",
              "      <td>302.0</td>\n",
              "      <td>54.420530</td>\n",
              "      <td>9.047970</td>\n",
              "      <td>29.0</td>\n",
              "      <td>48.00</td>\n",
              "      <td>55.5</td>\n",
              "      <td>61.00</td>\n",
              "      <td>77.0</td>\n",
              "    </tr>\n",
              "    <tr>\n",
              "      <th>sex</th>\n",
              "      <td>302.0</td>\n",
              "      <td>0.682119</td>\n",
              "      <td>0.466426</td>\n",
              "      <td>0.0</td>\n",
              "      <td>0.00</td>\n",
              "      <td>1.0</td>\n",
              "      <td>1.00</td>\n",
              "      <td>1.0</td>\n",
              "    </tr>\n",
              "    <tr>\n",
              "      <th>cp</th>\n",
              "      <td>302.0</td>\n",
              "      <td>0.963576</td>\n",
              "      <td>1.032044</td>\n",
              "      <td>0.0</td>\n",
              "      <td>0.00</td>\n",
              "      <td>1.0</td>\n",
              "      <td>2.00</td>\n",
              "      <td>3.0</td>\n",
              "    </tr>\n",
              "    <tr>\n",
              "      <th>trestbps</th>\n",
              "      <td>302.0</td>\n",
              "      <td>131.602649</td>\n",
              "      <td>17.563394</td>\n",
              "      <td>94.0</td>\n",
              "      <td>120.00</td>\n",
              "      <td>130.0</td>\n",
              "      <td>140.00</td>\n",
              "      <td>200.0</td>\n",
              "    </tr>\n",
              "    <tr>\n",
              "      <th>chol</th>\n",
              "      <td>302.0</td>\n",
              "      <td>246.500000</td>\n",
              "      <td>51.753489</td>\n",
              "      <td>126.0</td>\n",
              "      <td>211.00</td>\n",
              "      <td>240.5</td>\n",
              "      <td>274.75</td>\n",
              "      <td>564.0</td>\n",
              "    </tr>\n",
              "    <tr>\n",
              "      <th>fbs</th>\n",
              "      <td>302.0</td>\n",
              "      <td>0.149007</td>\n",
              "      <td>0.356686</td>\n",
              "      <td>0.0</td>\n",
              "      <td>0.00</td>\n",
              "      <td>0.0</td>\n",
              "      <td>0.00</td>\n",
              "      <td>1.0</td>\n",
              "    </tr>\n",
              "    <tr>\n",
              "      <th>restecg</th>\n",
              "      <td>302.0</td>\n",
              "      <td>0.526490</td>\n",
              "      <td>0.526027</td>\n",
              "      <td>0.0</td>\n",
              "      <td>0.00</td>\n",
              "      <td>1.0</td>\n",
              "      <td>1.00</td>\n",
              "      <td>2.0</td>\n",
              "    </tr>\n",
              "    <tr>\n",
              "      <th>thalach</th>\n",
              "      <td>302.0</td>\n",
              "      <td>149.569536</td>\n",
              "      <td>22.903527</td>\n",
              "      <td>71.0</td>\n",
              "      <td>133.25</td>\n",
              "      <td>152.5</td>\n",
              "      <td>166.00</td>\n",
              "      <td>202.0</td>\n",
              "    </tr>\n",
              "    <tr>\n",
              "      <th>exang</th>\n",
              "      <td>302.0</td>\n",
              "      <td>0.327815</td>\n",
              "      <td>0.470196</td>\n",
              "      <td>0.0</td>\n",
              "      <td>0.00</td>\n",
              "      <td>0.0</td>\n",
              "      <td>1.00</td>\n",
              "      <td>1.0</td>\n",
              "    </tr>\n",
              "    <tr>\n",
              "      <th>oldpeak</th>\n",
              "      <td>302.0</td>\n",
              "      <td>1.043046</td>\n",
              "      <td>1.161452</td>\n",
              "      <td>0.0</td>\n",
              "      <td>0.00</td>\n",
              "      <td>0.8</td>\n",
              "      <td>1.60</td>\n",
              "      <td>6.2</td>\n",
              "    </tr>\n",
              "    <tr>\n",
              "      <th>slope</th>\n",
              "      <td>302.0</td>\n",
              "      <td>1.397351</td>\n",
              "      <td>0.616274</td>\n",
              "      <td>0.0</td>\n",
              "      <td>1.00</td>\n",
              "      <td>1.0</td>\n",
              "      <td>2.00</td>\n",
              "      <td>2.0</td>\n",
              "    </tr>\n",
              "    <tr>\n",
              "      <th>ca</th>\n",
              "      <td>302.0</td>\n",
              "      <td>0.718543</td>\n",
              "      <td>1.006748</td>\n",
              "      <td>0.0</td>\n",
              "      <td>0.00</td>\n",
              "      <td>0.0</td>\n",
              "      <td>1.00</td>\n",
              "      <td>4.0</td>\n",
              "    </tr>\n",
              "    <tr>\n",
              "      <th>thal</th>\n",
              "      <td>302.0</td>\n",
              "      <td>2.314570</td>\n",
              "      <td>0.613026</td>\n",
              "      <td>0.0</td>\n",
              "      <td>2.00</td>\n",
              "      <td>2.0</td>\n",
              "      <td>3.00</td>\n",
              "      <td>3.0</td>\n",
              "    </tr>\n",
              "    <tr>\n",
              "      <th>target</th>\n",
              "      <td>302.0</td>\n",
              "      <td>0.543046</td>\n",
              "      <td>0.498970</td>\n",
              "      <td>0.0</td>\n",
              "      <td>0.00</td>\n",
              "      <td>1.0</td>\n",
              "      <td>1.00</td>\n",
              "      <td>1.0</td>\n",
              "    </tr>\n",
              "  </tbody>\n",
              "</table>\n",
              "</div>\n",
              "    <div class=\"colab-df-buttons\">\n",
              "\n",
              "  <div class=\"colab-df-container\">\n",
              "    <button class=\"colab-df-convert\" onclick=\"convertToInteractive('df-9c8d3860-e4d0-490c-8fba-96d32799b9e5')\"\n",
              "            title=\"Convert this dataframe to an interactive table.\"\n",
              "            style=\"display:none;\">\n",
              "\n",
              "  <svg xmlns=\"http://www.w3.org/2000/svg\" height=\"24px\" viewBox=\"0 -960 960 960\">\n",
              "    <path d=\"M120-120v-720h720v720H120Zm60-500h600v-160H180v160Zm220 220h160v-160H400v160Zm0 220h160v-160H400v160ZM180-400h160v-160H180v160Zm440 0h160v-160H620v160ZM180-180h160v-160H180v160Zm440 0h160v-160H620v160Z\"/>\n",
              "  </svg>\n",
              "    </button>\n",
              "\n",
              "  <style>\n",
              "    .colab-df-container {\n",
              "      display:flex;\n",
              "      gap: 12px;\n",
              "    }\n",
              "\n",
              "    .colab-df-convert {\n",
              "      background-color: #E8F0FE;\n",
              "      border: none;\n",
              "      border-radius: 50%;\n",
              "      cursor: pointer;\n",
              "      display: none;\n",
              "      fill: #1967D2;\n",
              "      height: 32px;\n",
              "      padding: 0 0 0 0;\n",
              "      width: 32px;\n",
              "    }\n",
              "\n",
              "    .colab-df-convert:hover {\n",
              "      background-color: #E2EBFA;\n",
              "      box-shadow: 0px 1px 2px rgba(60, 64, 67, 0.3), 0px 1px 3px 1px rgba(60, 64, 67, 0.15);\n",
              "      fill: #174EA6;\n",
              "    }\n",
              "\n",
              "    .colab-df-buttons div {\n",
              "      margin-bottom: 4px;\n",
              "    }\n",
              "\n",
              "    [theme=dark] .colab-df-convert {\n",
              "      background-color: #3B4455;\n",
              "      fill: #D2E3FC;\n",
              "    }\n",
              "\n",
              "    [theme=dark] .colab-df-convert:hover {\n",
              "      background-color: #434B5C;\n",
              "      box-shadow: 0px 1px 3px 1px rgba(0, 0, 0, 0.15);\n",
              "      filter: drop-shadow(0px 1px 2px rgba(0, 0, 0, 0.3));\n",
              "      fill: #FFFFFF;\n",
              "    }\n",
              "  </style>\n",
              "\n",
              "    <script>\n",
              "      const buttonEl =\n",
              "        document.querySelector('#df-9c8d3860-e4d0-490c-8fba-96d32799b9e5 button.colab-df-convert');\n",
              "      buttonEl.style.display =\n",
              "        google.colab.kernel.accessAllowed ? 'block' : 'none';\n",
              "\n",
              "      async function convertToInteractive(key) {\n",
              "        const element = document.querySelector('#df-9c8d3860-e4d0-490c-8fba-96d32799b9e5');\n",
              "        const dataTable =\n",
              "          await google.colab.kernel.invokeFunction('convertToInteractive',\n",
              "                                                    [key], {});\n",
              "        if (!dataTable) return;\n",
              "\n",
              "        const docLinkHtml = 'Like what you see? Visit the ' +\n",
              "          '<a target=\"_blank\" href=https://colab.research.google.com/notebooks/data_table.ipynb>data table notebook</a>'\n",
              "          + ' to learn more about interactive tables.';\n",
              "        element.innerHTML = '';\n",
              "        dataTable['output_type'] = 'display_data';\n",
              "        await google.colab.output.renderOutput(dataTable, element);\n",
              "        const docLink = document.createElement('div');\n",
              "        docLink.innerHTML = docLinkHtml;\n",
              "        element.appendChild(docLink);\n",
              "      }\n",
              "    </script>\n",
              "  </div>\n",
              "\n",
              "\n",
              "<div id=\"df-e84251c2-42ed-47e2-9130-c4074a471a30\">\n",
              "  <button class=\"colab-df-quickchart\" onclick=\"quickchart('df-e84251c2-42ed-47e2-9130-c4074a471a30')\"\n",
              "            title=\"Suggest charts\"\n",
              "            style=\"display:none;\">\n",
              "\n",
              "<svg xmlns=\"http://www.w3.org/2000/svg\" height=\"24px\"viewBox=\"0 0 24 24\"\n",
              "     width=\"24px\">\n",
              "    <g>\n",
              "        <path d=\"M19 3H5c-1.1 0-2 .9-2 2v14c0 1.1.9 2 2 2h14c1.1 0 2-.9 2-2V5c0-1.1-.9-2-2-2zM9 17H7v-7h2v7zm4 0h-2V7h2v10zm4 0h-2v-4h2v4z\"/>\n",
              "    </g>\n",
              "</svg>\n",
              "  </button>\n",
              "\n",
              "<style>\n",
              "  .colab-df-quickchart {\n",
              "      --bg-color: #E8F0FE;\n",
              "      --fill-color: #1967D2;\n",
              "      --hover-bg-color: #E2EBFA;\n",
              "      --hover-fill-color: #174EA6;\n",
              "      --disabled-fill-color: #AAA;\n",
              "      --disabled-bg-color: #DDD;\n",
              "  }\n",
              "\n",
              "  [theme=dark] .colab-df-quickchart {\n",
              "      --bg-color: #3B4455;\n",
              "      --fill-color: #D2E3FC;\n",
              "      --hover-bg-color: #434B5C;\n",
              "      --hover-fill-color: #FFFFFF;\n",
              "      --disabled-bg-color: #3B4455;\n",
              "      --disabled-fill-color: #666;\n",
              "  }\n",
              "\n",
              "  .colab-df-quickchart {\n",
              "    background-color: var(--bg-color);\n",
              "    border: none;\n",
              "    border-radius: 50%;\n",
              "    cursor: pointer;\n",
              "    display: none;\n",
              "    fill: var(--fill-color);\n",
              "    height: 32px;\n",
              "    padding: 0;\n",
              "    width: 32px;\n",
              "  }\n",
              "\n",
              "  .colab-df-quickchart:hover {\n",
              "    background-color: var(--hover-bg-color);\n",
              "    box-shadow: 0 1px 2px rgba(60, 64, 67, 0.3), 0 1px 3px 1px rgba(60, 64, 67, 0.15);\n",
              "    fill: var(--button-hover-fill-color);\n",
              "  }\n",
              "\n",
              "  .colab-df-quickchart-complete:disabled,\n",
              "  .colab-df-quickchart-complete:disabled:hover {\n",
              "    background-color: var(--disabled-bg-color);\n",
              "    fill: var(--disabled-fill-color);\n",
              "    box-shadow: none;\n",
              "  }\n",
              "\n",
              "  .colab-df-spinner {\n",
              "    border: 2px solid var(--fill-color);\n",
              "    border-color: transparent;\n",
              "    border-bottom-color: var(--fill-color);\n",
              "    animation:\n",
              "      spin 1s steps(1) infinite;\n",
              "  }\n",
              "\n",
              "  @keyframes spin {\n",
              "    0% {\n",
              "      border-color: transparent;\n",
              "      border-bottom-color: var(--fill-color);\n",
              "      border-left-color: var(--fill-color);\n",
              "    }\n",
              "    20% {\n",
              "      border-color: transparent;\n",
              "      border-left-color: var(--fill-color);\n",
              "      border-top-color: var(--fill-color);\n",
              "    }\n",
              "    30% {\n",
              "      border-color: transparent;\n",
              "      border-left-color: var(--fill-color);\n",
              "      border-top-color: var(--fill-color);\n",
              "      border-right-color: var(--fill-color);\n",
              "    }\n",
              "    40% {\n",
              "      border-color: transparent;\n",
              "      border-right-color: var(--fill-color);\n",
              "      border-top-color: var(--fill-color);\n",
              "    }\n",
              "    60% {\n",
              "      border-color: transparent;\n",
              "      border-right-color: var(--fill-color);\n",
              "    }\n",
              "    80% {\n",
              "      border-color: transparent;\n",
              "      border-right-color: var(--fill-color);\n",
              "      border-bottom-color: var(--fill-color);\n",
              "    }\n",
              "    90% {\n",
              "      border-color: transparent;\n",
              "      border-bottom-color: var(--fill-color);\n",
              "    }\n",
              "  }\n",
              "</style>\n",
              "\n",
              "  <script>\n",
              "    async function quickchart(key) {\n",
              "      const quickchartButtonEl =\n",
              "        document.querySelector('#' + key + ' button');\n",
              "      quickchartButtonEl.disabled = true;  // To prevent multiple clicks.\n",
              "      quickchartButtonEl.classList.add('colab-df-spinner');\n",
              "      try {\n",
              "        const charts = await google.colab.kernel.invokeFunction(\n",
              "            'suggestCharts', [key], {});\n",
              "      } catch (error) {\n",
              "        console.error('Error during call to suggestCharts:', error);\n",
              "      }\n",
              "      quickchartButtonEl.classList.remove('colab-df-spinner');\n",
              "      quickchartButtonEl.classList.add('colab-df-quickchart-complete');\n",
              "    }\n",
              "    (() => {\n",
              "      let quickchartButtonEl =\n",
              "        document.querySelector('#df-e84251c2-42ed-47e2-9130-c4074a471a30 button');\n",
              "      quickchartButtonEl.style.display =\n",
              "        google.colab.kernel.accessAllowed ? 'block' : 'none';\n",
              "    })();\n",
              "  </script>\n",
              "</div>\n",
              "\n",
              "    </div>\n",
              "  </div>\n"
            ],
            "text/plain": [
              "          count        mean        std    min     25%    50%     75%    max\n",
              "age       302.0   54.420530   9.047970   29.0   48.00   55.5   61.00   77.0\n",
              "sex       302.0    0.682119   0.466426    0.0    0.00    1.0    1.00    1.0\n",
              "cp        302.0    0.963576   1.032044    0.0    0.00    1.0    2.00    3.0\n",
              "trestbps  302.0  131.602649  17.563394   94.0  120.00  130.0  140.00  200.0\n",
              "chol      302.0  246.500000  51.753489  126.0  211.00  240.5  274.75  564.0\n",
              "fbs       302.0    0.149007   0.356686    0.0    0.00    0.0    0.00    1.0\n",
              "restecg   302.0    0.526490   0.526027    0.0    0.00    1.0    1.00    2.0\n",
              "thalach   302.0  149.569536  22.903527   71.0  133.25  152.5  166.00  202.0\n",
              "exang     302.0    0.327815   0.470196    0.0    0.00    0.0    1.00    1.0\n",
              "oldpeak   302.0    1.043046   1.161452    0.0    0.00    0.8    1.60    6.2\n",
              "slope     302.0    1.397351   0.616274    0.0    1.00    1.0    2.00    2.0\n",
              "ca        302.0    0.718543   1.006748    0.0    0.00    0.0    1.00    4.0\n",
              "thal      302.0    2.314570   0.613026    0.0    2.00    2.0    3.00    3.0\n",
              "target    302.0    0.543046   0.498970    0.0    0.00    1.0    1.00    1.0"
            ]
          },
          "execution_count": 21,
          "metadata": {},
          "output_type": "execute_result"
        }
      ],
      "source": [
        "df2.describe().T"
      ]
    },
    {
      "cell_type": "markdown",
      "metadata": {
        "id": "qnHFRIn5U0CU"
      },
      "source": [
        "5) Replace Value"
      ]
    },
    {
      "cell_type": "code",
      "execution_count": null,
      "metadata": {
        "id": "IeN-2uJ2rKo6"
      },
      "outputs": [],
      "source": [
        "df2[\"cp\"] = df2[\"cp\"].replace({0:\"ATA\",1:\"NAP\",2:\"ASY\",3:\"TA\"})"
      ]
    },
    {
      "cell_type": "code",
      "execution_count": null,
      "metadata": {
        "id": "_dBXHbUDU8db"
      },
      "outputs": [],
      "source": [
        "df2[\"fbs\"] = df2[\"fbs\"].replace({0:\"True\",1:\"False\"})"
      ]
    },
    {
      "cell_type": "code",
      "execution_count": null,
      "metadata": {
        "id": "rY5s-1b8VVWR"
      },
      "outputs": [],
      "source": [
        "df2[\"thal\"] = df2[\"thal\"].replace({1:\"normal\",2:\"fixed defect\",3:\"reversible defect\"})"
      ]
    },
    {
      "cell_type": "code",
      "execution_count": null,
      "metadata": {
        "id": "rgpXiXBsV4O7"
      },
      "outputs": [],
      "source": [
        "df2[\"slope\"] = df2[\"slope\"].replace({0:\"Up\",1:\"Flat\",2:\"Down\"})"
      ]
    },
    {
      "cell_type": "code",
      "execution_count": null,
      "metadata": {
        "id": "RXyT8fISWTY8"
      },
      "outputs": [],
      "source": [
        "df2[\"target\"] = df2[\"target\"].replace({0:\"No\",1:\"Yes\"})"
      ]
    },
    {
      "cell_type": "code",
      "execution_count": null,
      "metadata": {
        "colab": {
          "base_uri": "https://localhost:8080/",
          "height": 617
        },
        "id": "jrrpiVBjYeNP",
        "outputId": "766cb03c-e1af-4c86-d2a8-0da90cce2b31"
      },
      "outputs": [
        {
          "output_type": "execute_result",
          "data": {
            "text/plain": [
              "     age  sex   cp  trestbps  chol    fbs  restecg  thalach  exang  oldpeak  \\\n",
              "0     52    1  ATA       125   212   True        1      168      0      1.0   \n",
              "1     53    1  ATA       140   203  False        0      155      1      3.1   \n",
              "2     70    1  ATA       145   174   True        1      125      1      2.6   \n",
              "3     61    1  ATA       148   203   True        1      161      0      0.0   \n",
              "4     62    0  ATA       138   294  False        1      106      0      1.9   \n",
              "..   ...  ...  ...       ...   ...    ...      ...      ...    ...      ...   \n",
              "723   68    0  ASY       120   211   True        0      115      0      1.5   \n",
              "733   44    0  ASY       108   141   True        1      175      0      0.6   \n",
              "739   52    1  ATA       128   255   True        1      161      1      0.0   \n",
              "843   59    1   TA       160   273   True        0      125      0      0.0   \n",
              "878   54    1  ATA       120   188   True        1      113      0      1.4   \n",
              "\n",
              "    slope  ca               thal target  \n",
              "0    Down   2  reversible defect     No  \n",
              "1      Up   0  reversible defect     No  \n",
              "2      Up   0  reversible defect     No  \n",
              "3    Down   1  reversible defect     No  \n",
              "4    Flat   3       fixed defect     No  \n",
              "..    ...  ..                ...    ...  \n",
              "723  Flat   0       fixed defect    Yes  \n",
              "733  Flat   0       fixed defect    Yes  \n",
              "739  Down   1  reversible defect     No  \n",
              "843  Down   0       fixed defect     No  \n",
              "878  Flat   1  reversible defect     No  \n",
              "\n",
              "[302 rows x 14 columns]"
            ],
            "text/html": [
              "\n",
              "  <div id=\"df-3d410ea4-08d2-4c96-9895-f770e922212f\" class=\"colab-df-container\">\n",
              "    <div>\n",
              "<style scoped>\n",
              "    .dataframe tbody tr th:only-of-type {\n",
              "        vertical-align: middle;\n",
              "    }\n",
              "\n",
              "    .dataframe tbody tr th {\n",
              "        vertical-align: top;\n",
              "    }\n",
              "\n",
              "    .dataframe thead th {\n",
              "        text-align: right;\n",
              "    }\n",
              "</style>\n",
              "<table border=\"1\" class=\"dataframe\">\n",
              "  <thead>\n",
              "    <tr style=\"text-align: right;\">\n",
              "      <th></th>\n",
              "      <th>age</th>\n",
              "      <th>sex</th>\n",
              "      <th>cp</th>\n",
              "      <th>trestbps</th>\n",
              "      <th>chol</th>\n",
              "      <th>fbs</th>\n",
              "      <th>restecg</th>\n",
              "      <th>thalach</th>\n",
              "      <th>exang</th>\n",
              "      <th>oldpeak</th>\n",
              "      <th>slope</th>\n",
              "      <th>ca</th>\n",
              "      <th>thal</th>\n",
              "      <th>target</th>\n",
              "    </tr>\n",
              "  </thead>\n",
              "  <tbody>\n",
              "    <tr>\n",
              "      <th>0</th>\n",
              "      <td>52</td>\n",
              "      <td>1</td>\n",
              "      <td>ATA</td>\n",
              "      <td>125</td>\n",
              "      <td>212</td>\n",
              "      <td>True</td>\n",
              "      <td>1</td>\n",
              "      <td>168</td>\n",
              "      <td>0</td>\n",
              "      <td>1.0</td>\n",
              "      <td>Down</td>\n",
              "      <td>2</td>\n",
              "      <td>reversible defect</td>\n",
              "      <td>No</td>\n",
              "    </tr>\n",
              "    <tr>\n",
              "      <th>1</th>\n",
              "      <td>53</td>\n",
              "      <td>1</td>\n",
              "      <td>ATA</td>\n",
              "      <td>140</td>\n",
              "      <td>203</td>\n",
              "      <td>False</td>\n",
              "      <td>0</td>\n",
              "      <td>155</td>\n",
              "      <td>1</td>\n",
              "      <td>3.1</td>\n",
              "      <td>Up</td>\n",
              "      <td>0</td>\n",
              "      <td>reversible defect</td>\n",
              "      <td>No</td>\n",
              "    </tr>\n",
              "    <tr>\n",
              "      <th>2</th>\n",
              "      <td>70</td>\n",
              "      <td>1</td>\n",
              "      <td>ATA</td>\n",
              "      <td>145</td>\n",
              "      <td>174</td>\n",
              "      <td>True</td>\n",
              "      <td>1</td>\n",
              "      <td>125</td>\n",
              "      <td>1</td>\n",
              "      <td>2.6</td>\n",
              "      <td>Up</td>\n",
              "      <td>0</td>\n",
              "      <td>reversible defect</td>\n",
              "      <td>No</td>\n",
              "    </tr>\n",
              "    <tr>\n",
              "      <th>3</th>\n",
              "      <td>61</td>\n",
              "      <td>1</td>\n",
              "      <td>ATA</td>\n",
              "      <td>148</td>\n",
              "      <td>203</td>\n",
              "      <td>True</td>\n",
              "      <td>1</td>\n",
              "      <td>161</td>\n",
              "      <td>0</td>\n",
              "      <td>0.0</td>\n",
              "      <td>Down</td>\n",
              "      <td>1</td>\n",
              "      <td>reversible defect</td>\n",
              "      <td>No</td>\n",
              "    </tr>\n",
              "    <tr>\n",
              "      <th>4</th>\n",
              "      <td>62</td>\n",
              "      <td>0</td>\n",
              "      <td>ATA</td>\n",
              "      <td>138</td>\n",
              "      <td>294</td>\n",
              "      <td>False</td>\n",
              "      <td>1</td>\n",
              "      <td>106</td>\n",
              "      <td>0</td>\n",
              "      <td>1.9</td>\n",
              "      <td>Flat</td>\n",
              "      <td>3</td>\n",
              "      <td>fixed defect</td>\n",
              "      <td>No</td>\n",
              "    </tr>\n",
              "    <tr>\n",
              "      <th>...</th>\n",
              "      <td>...</td>\n",
              "      <td>...</td>\n",
              "      <td>...</td>\n",
              "      <td>...</td>\n",
              "      <td>...</td>\n",
              "      <td>...</td>\n",
              "      <td>...</td>\n",
              "      <td>...</td>\n",
              "      <td>...</td>\n",
              "      <td>...</td>\n",
              "      <td>...</td>\n",
              "      <td>...</td>\n",
              "      <td>...</td>\n",
              "      <td>...</td>\n",
              "    </tr>\n",
              "    <tr>\n",
              "      <th>723</th>\n",
              "      <td>68</td>\n",
              "      <td>0</td>\n",
              "      <td>ASY</td>\n",
              "      <td>120</td>\n",
              "      <td>211</td>\n",
              "      <td>True</td>\n",
              "      <td>0</td>\n",
              "      <td>115</td>\n",
              "      <td>0</td>\n",
              "      <td>1.5</td>\n",
              "      <td>Flat</td>\n",
              "      <td>0</td>\n",
              "      <td>fixed defect</td>\n",
              "      <td>Yes</td>\n",
              "    </tr>\n",
              "    <tr>\n",
              "      <th>733</th>\n",
              "      <td>44</td>\n",
              "      <td>0</td>\n",
              "      <td>ASY</td>\n",
              "      <td>108</td>\n",
              "      <td>141</td>\n",
              "      <td>True</td>\n",
              "      <td>1</td>\n",
              "      <td>175</td>\n",
              "      <td>0</td>\n",
              "      <td>0.6</td>\n",
              "      <td>Flat</td>\n",
              "      <td>0</td>\n",
              "      <td>fixed defect</td>\n",
              "      <td>Yes</td>\n",
              "    </tr>\n",
              "    <tr>\n",
              "      <th>739</th>\n",
              "      <td>52</td>\n",
              "      <td>1</td>\n",
              "      <td>ATA</td>\n",
              "      <td>128</td>\n",
              "      <td>255</td>\n",
              "      <td>True</td>\n",
              "      <td>1</td>\n",
              "      <td>161</td>\n",
              "      <td>1</td>\n",
              "      <td>0.0</td>\n",
              "      <td>Down</td>\n",
              "      <td>1</td>\n",
              "      <td>reversible defect</td>\n",
              "      <td>No</td>\n",
              "    </tr>\n",
              "    <tr>\n",
              "      <th>843</th>\n",
              "      <td>59</td>\n",
              "      <td>1</td>\n",
              "      <td>TA</td>\n",
              "      <td>160</td>\n",
              "      <td>273</td>\n",
              "      <td>True</td>\n",
              "      <td>0</td>\n",
              "      <td>125</td>\n",
              "      <td>0</td>\n",
              "      <td>0.0</td>\n",
              "      <td>Down</td>\n",
              "      <td>0</td>\n",
              "      <td>fixed defect</td>\n",
              "      <td>No</td>\n",
              "    </tr>\n",
              "    <tr>\n",
              "      <th>878</th>\n",
              "      <td>54</td>\n",
              "      <td>1</td>\n",
              "      <td>ATA</td>\n",
              "      <td>120</td>\n",
              "      <td>188</td>\n",
              "      <td>True</td>\n",
              "      <td>1</td>\n",
              "      <td>113</td>\n",
              "      <td>0</td>\n",
              "      <td>1.4</td>\n",
              "      <td>Flat</td>\n",
              "      <td>1</td>\n",
              "      <td>reversible defect</td>\n",
              "      <td>No</td>\n",
              "    </tr>\n",
              "  </tbody>\n",
              "</table>\n",
              "<p>302 rows × 14 columns</p>\n",
              "</div>\n",
              "    <div class=\"colab-df-buttons\">\n",
              "\n",
              "  <div class=\"colab-df-container\">\n",
              "    <button class=\"colab-df-convert\" onclick=\"convertToInteractive('df-3d410ea4-08d2-4c96-9895-f770e922212f')\"\n",
              "            title=\"Convert this dataframe to an interactive table.\"\n",
              "            style=\"display:none;\">\n",
              "\n",
              "  <svg xmlns=\"http://www.w3.org/2000/svg\" height=\"24px\" viewBox=\"0 -960 960 960\">\n",
              "    <path d=\"M120-120v-720h720v720H120Zm60-500h600v-160H180v160Zm220 220h160v-160H400v160Zm0 220h160v-160H400v160ZM180-400h160v-160H180v160Zm440 0h160v-160H620v160ZM180-180h160v-160H180v160Zm440 0h160v-160H620v160Z\"/>\n",
              "  </svg>\n",
              "    </button>\n",
              "\n",
              "  <style>\n",
              "    .colab-df-container {\n",
              "      display:flex;\n",
              "      gap: 12px;\n",
              "    }\n",
              "\n",
              "    .colab-df-convert {\n",
              "      background-color: #E8F0FE;\n",
              "      border: none;\n",
              "      border-radius: 50%;\n",
              "      cursor: pointer;\n",
              "      display: none;\n",
              "      fill: #1967D2;\n",
              "      height: 32px;\n",
              "      padding: 0 0 0 0;\n",
              "      width: 32px;\n",
              "    }\n",
              "\n",
              "    .colab-df-convert:hover {\n",
              "      background-color: #E2EBFA;\n",
              "      box-shadow: 0px 1px 2px rgba(60, 64, 67, 0.3), 0px 1px 3px 1px rgba(60, 64, 67, 0.15);\n",
              "      fill: #174EA6;\n",
              "    }\n",
              "\n",
              "    .colab-df-buttons div {\n",
              "      margin-bottom: 4px;\n",
              "    }\n",
              "\n",
              "    [theme=dark] .colab-df-convert {\n",
              "      background-color: #3B4455;\n",
              "      fill: #D2E3FC;\n",
              "    }\n",
              "\n",
              "    [theme=dark] .colab-df-convert:hover {\n",
              "      background-color: #434B5C;\n",
              "      box-shadow: 0px 1px 3px 1px rgba(0, 0, 0, 0.15);\n",
              "      filter: drop-shadow(0px 1px 2px rgba(0, 0, 0, 0.3));\n",
              "      fill: #FFFFFF;\n",
              "    }\n",
              "  </style>\n",
              "\n",
              "    <script>\n",
              "      const buttonEl =\n",
              "        document.querySelector('#df-3d410ea4-08d2-4c96-9895-f770e922212f button.colab-df-convert');\n",
              "      buttonEl.style.display =\n",
              "        google.colab.kernel.accessAllowed ? 'block' : 'none';\n",
              "\n",
              "      async function convertToInteractive(key) {\n",
              "        const element = document.querySelector('#df-3d410ea4-08d2-4c96-9895-f770e922212f');\n",
              "        const dataTable =\n",
              "          await google.colab.kernel.invokeFunction('convertToInteractive',\n",
              "                                                    [key], {});\n",
              "        if (!dataTable) return;\n",
              "\n",
              "        const docLinkHtml = 'Like what you see? Visit the ' +\n",
              "          '<a target=\"_blank\" href=https://colab.research.google.com/notebooks/data_table.ipynb>data table notebook</a>'\n",
              "          + ' to learn more about interactive tables.';\n",
              "        element.innerHTML = '';\n",
              "        dataTable['output_type'] = 'display_data';\n",
              "        await google.colab.output.renderOutput(dataTable, element);\n",
              "        const docLink = document.createElement('div');\n",
              "        docLink.innerHTML = docLinkHtml;\n",
              "        element.appendChild(docLink);\n",
              "      }\n",
              "    </script>\n",
              "  </div>\n",
              "\n",
              "\n",
              "<div id=\"df-442d48fe-0947-4281-a504-6c18abe26566\">\n",
              "  <button class=\"colab-df-quickchart\" onclick=\"quickchart('df-442d48fe-0947-4281-a504-6c18abe26566')\"\n",
              "            title=\"Suggest charts\"\n",
              "            style=\"display:none;\">\n",
              "\n",
              "<svg xmlns=\"http://www.w3.org/2000/svg\" height=\"24px\"viewBox=\"0 0 24 24\"\n",
              "     width=\"24px\">\n",
              "    <g>\n",
              "        <path d=\"M19 3H5c-1.1 0-2 .9-2 2v14c0 1.1.9 2 2 2h14c1.1 0 2-.9 2-2V5c0-1.1-.9-2-2-2zM9 17H7v-7h2v7zm4 0h-2V7h2v10zm4 0h-2v-4h2v4z\"/>\n",
              "    </g>\n",
              "</svg>\n",
              "  </button>\n",
              "\n",
              "<style>\n",
              "  .colab-df-quickchart {\n",
              "      --bg-color: #E8F0FE;\n",
              "      --fill-color: #1967D2;\n",
              "      --hover-bg-color: #E2EBFA;\n",
              "      --hover-fill-color: #174EA6;\n",
              "      --disabled-fill-color: #AAA;\n",
              "      --disabled-bg-color: #DDD;\n",
              "  }\n",
              "\n",
              "  [theme=dark] .colab-df-quickchart {\n",
              "      --bg-color: #3B4455;\n",
              "      --fill-color: #D2E3FC;\n",
              "      --hover-bg-color: #434B5C;\n",
              "      --hover-fill-color: #FFFFFF;\n",
              "      --disabled-bg-color: #3B4455;\n",
              "      --disabled-fill-color: #666;\n",
              "  }\n",
              "\n",
              "  .colab-df-quickchart {\n",
              "    background-color: var(--bg-color);\n",
              "    border: none;\n",
              "    border-radius: 50%;\n",
              "    cursor: pointer;\n",
              "    display: none;\n",
              "    fill: var(--fill-color);\n",
              "    height: 32px;\n",
              "    padding: 0;\n",
              "    width: 32px;\n",
              "  }\n",
              "\n",
              "  .colab-df-quickchart:hover {\n",
              "    background-color: var(--hover-bg-color);\n",
              "    box-shadow: 0 1px 2px rgba(60, 64, 67, 0.3), 0 1px 3px 1px rgba(60, 64, 67, 0.15);\n",
              "    fill: var(--button-hover-fill-color);\n",
              "  }\n",
              "\n",
              "  .colab-df-quickchart-complete:disabled,\n",
              "  .colab-df-quickchart-complete:disabled:hover {\n",
              "    background-color: var(--disabled-bg-color);\n",
              "    fill: var(--disabled-fill-color);\n",
              "    box-shadow: none;\n",
              "  }\n",
              "\n",
              "  .colab-df-spinner {\n",
              "    border: 2px solid var(--fill-color);\n",
              "    border-color: transparent;\n",
              "    border-bottom-color: var(--fill-color);\n",
              "    animation:\n",
              "      spin 1s steps(1) infinite;\n",
              "  }\n",
              "\n",
              "  @keyframes spin {\n",
              "    0% {\n",
              "      border-color: transparent;\n",
              "      border-bottom-color: var(--fill-color);\n",
              "      border-left-color: var(--fill-color);\n",
              "    }\n",
              "    20% {\n",
              "      border-color: transparent;\n",
              "      border-left-color: var(--fill-color);\n",
              "      border-top-color: var(--fill-color);\n",
              "    }\n",
              "    30% {\n",
              "      border-color: transparent;\n",
              "      border-left-color: var(--fill-color);\n",
              "      border-top-color: var(--fill-color);\n",
              "      border-right-color: var(--fill-color);\n",
              "    }\n",
              "    40% {\n",
              "      border-color: transparent;\n",
              "      border-right-color: var(--fill-color);\n",
              "      border-top-color: var(--fill-color);\n",
              "    }\n",
              "    60% {\n",
              "      border-color: transparent;\n",
              "      border-right-color: var(--fill-color);\n",
              "    }\n",
              "    80% {\n",
              "      border-color: transparent;\n",
              "      border-right-color: var(--fill-color);\n",
              "      border-bottom-color: var(--fill-color);\n",
              "    }\n",
              "    90% {\n",
              "      border-color: transparent;\n",
              "      border-bottom-color: var(--fill-color);\n",
              "    }\n",
              "  }\n",
              "</style>\n",
              "\n",
              "  <script>\n",
              "    async function quickchart(key) {\n",
              "      const quickchartButtonEl =\n",
              "        document.querySelector('#' + key + ' button');\n",
              "      quickchartButtonEl.disabled = true;  // To prevent multiple clicks.\n",
              "      quickchartButtonEl.classList.add('colab-df-spinner');\n",
              "      try {\n",
              "        const charts = await google.colab.kernel.invokeFunction(\n",
              "            'suggestCharts', [key], {});\n",
              "      } catch (error) {\n",
              "        console.error('Error during call to suggestCharts:', error);\n",
              "      }\n",
              "      quickchartButtonEl.classList.remove('colab-df-spinner');\n",
              "      quickchartButtonEl.classList.add('colab-df-quickchart-complete');\n",
              "    }\n",
              "    (() => {\n",
              "      let quickchartButtonEl =\n",
              "        document.querySelector('#df-442d48fe-0947-4281-a504-6c18abe26566 button');\n",
              "      quickchartButtonEl.style.display =\n",
              "        google.colab.kernel.accessAllowed ? 'block' : 'none';\n",
              "    })();\n",
              "  </script>\n",
              "</div>\n",
              "\n",
              "  <div id=\"id_48a4980f-c3be-4eb3-b548-e80a2a5dd565\">\n",
              "    <style>\n",
              "      .colab-df-generate {\n",
              "        background-color: #E8F0FE;\n",
              "        border: none;\n",
              "        border-radius: 50%;\n",
              "        cursor: pointer;\n",
              "        display: none;\n",
              "        fill: #1967D2;\n",
              "        height: 32px;\n",
              "        padding: 0 0 0 0;\n",
              "        width: 32px;\n",
              "      }\n",
              "\n",
              "      .colab-df-generate:hover {\n",
              "        background-color: #E2EBFA;\n",
              "        box-shadow: 0px 1px 2px rgba(60, 64, 67, 0.3), 0px 1px 3px 1px rgba(60, 64, 67, 0.15);\n",
              "        fill: #174EA6;\n",
              "      }\n",
              "\n",
              "      [theme=dark] .colab-df-generate {\n",
              "        background-color: #3B4455;\n",
              "        fill: #D2E3FC;\n",
              "      }\n",
              "\n",
              "      [theme=dark] .colab-df-generate:hover {\n",
              "        background-color: #434B5C;\n",
              "        box-shadow: 0px 1px 3px 1px rgba(0, 0, 0, 0.15);\n",
              "        filter: drop-shadow(0px 1px 2px rgba(0, 0, 0, 0.3));\n",
              "        fill: #FFFFFF;\n",
              "      }\n",
              "    </style>\n",
              "    <button class=\"colab-df-generate\" onclick=\"generateWithVariable('df2')\"\n",
              "            title=\"Generate code using this dataframe.\"\n",
              "            style=\"display:none;\">\n",
              "\n",
              "  <svg xmlns=\"http://www.w3.org/2000/svg\" height=\"24px\"viewBox=\"0 0 24 24\"\n",
              "       width=\"24px\">\n",
              "    <path d=\"M7,19H8.4L18.45,9,17,7.55,7,17.6ZM5,21V16.75L18.45,3.32a2,2,0,0,1,2.83,0l1.4,1.43a1.91,1.91,0,0,1,.58,1.4,1.91,1.91,0,0,1-.58,1.4L9.25,21ZM18.45,9,17,7.55Zm-12,3A5.31,5.31,0,0,0,4.9,8.1,5.31,5.31,0,0,0,1,6.5,5.31,5.31,0,0,0,4.9,4.9,5.31,5.31,0,0,0,6.5,1,5.31,5.31,0,0,0,8.1,4.9,5.31,5.31,0,0,0,12,6.5,5.46,5.46,0,0,0,6.5,12Z\"/>\n",
              "  </svg>\n",
              "    </button>\n",
              "    <script>\n",
              "      (() => {\n",
              "      const buttonEl =\n",
              "        document.querySelector('#id_48a4980f-c3be-4eb3-b548-e80a2a5dd565 button.colab-df-generate');\n",
              "      buttonEl.style.display =\n",
              "        google.colab.kernel.accessAllowed ? 'block' : 'none';\n",
              "\n",
              "      buttonEl.onclick = () => {\n",
              "        google.colab.notebook.generateWithVariable('df2');\n",
              "      }\n",
              "      })();\n",
              "    </script>\n",
              "  </div>\n",
              "\n",
              "    </div>\n",
              "  </div>\n"
            ],
            "application/vnd.google.colaboratory.intrinsic+json": {
              "type": "dataframe",
              "variable_name": "df2",
              "summary": "{\n  \"name\": \"df2\",\n  \"rows\": 302,\n  \"fields\": [\n    {\n      \"column\": \"age\",\n      \"properties\": {\n        \"dtype\": \"number\",\n        \"std\": 9,\n        \"min\": 29,\n        \"max\": 77,\n        \"num_unique_values\": 41,\n        \"samples\": [\n          65,\n          50,\n          54\n        ],\n        \"semantic_type\": \"\",\n        \"description\": \"\"\n      }\n    },\n    {\n      \"column\": \"sex\",\n      \"properties\": {\n        \"dtype\": \"number\",\n        \"std\": 0,\n        \"min\": 0,\n        \"max\": 1,\n        \"num_unique_values\": 2,\n        \"samples\": [\n          0,\n          1\n        ],\n        \"semantic_type\": \"\",\n        \"description\": \"\"\n      }\n    },\n    {\n      \"column\": \"cp\",\n      \"properties\": {\n        \"dtype\": \"category\",\n        \"num_unique_values\": 4,\n        \"samples\": [\n          \"NAP\",\n          \"TA\"\n        ],\n        \"semantic_type\": \"\",\n        \"description\": \"\"\n      }\n    },\n    {\n      \"column\": \"trestbps\",\n      \"properties\": {\n        \"dtype\": \"number\",\n        \"std\": 17,\n        \"min\": 94,\n        \"max\": 200,\n        \"num_unique_values\": 49,\n        \"samples\": [\n          128,\n          172\n        ],\n        \"semantic_type\": \"\",\n        \"description\": \"\"\n      }\n    },\n    {\n      \"column\": \"chol\",\n      \"properties\": {\n        \"dtype\": \"number\",\n        \"std\": 51,\n        \"min\": 126,\n        \"max\": 564,\n        \"num_unique_values\": 152,\n        \"samples\": [\n          267,\n          262\n        ],\n        \"semantic_type\": \"\",\n        \"description\": \"\"\n      }\n    },\n    {\n      \"column\": \"fbs\",\n      \"properties\": {\n        \"dtype\": \"category\",\n        \"num_unique_values\": 2,\n        \"samples\": [\n          \"False\",\n          \"True\"\n        ],\n        \"semantic_type\": \"\",\n        \"description\": \"\"\n      }\n    },\n    {\n      \"column\": \"restecg\",\n      \"properties\": {\n        \"dtype\": \"number\",\n        \"std\": 0,\n        \"min\": 0,\n        \"max\": 2,\n        \"num_unique_values\": 3,\n        \"samples\": [\n          1,\n          0\n        ],\n        \"semantic_type\": \"\",\n        \"description\": \"\"\n      }\n    },\n    {\n      \"column\": \"thalach\",\n      \"properties\": {\n        \"dtype\": \"number\",\n        \"std\": 22,\n        \"min\": 71,\n        \"max\": 202,\n        \"num_unique_values\": 91,\n        \"samples\": [\n          180,\n          152\n        ],\n        \"semantic_type\": \"\",\n        \"description\": \"\"\n      }\n    },\n    {\n      \"column\": \"exang\",\n      \"properties\": {\n        \"dtype\": \"number\",\n        \"std\": 0,\n        \"min\": 0,\n        \"max\": 1,\n        \"num_unique_values\": 2,\n        \"samples\": [\n          1,\n          0\n        ],\n        \"semantic_type\": \"\",\n        \"description\": \"\"\n      }\n    },\n    {\n      \"column\": \"oldpeak\",\n      \"properties\": {\n        \"dtype\": \"number\",\n        \"std\": 1.1614522890634562,\n        \"min\": 0.0,\n        \"max\": 6.2,\n        \"num_unique_values\": 40,\n        \"samples\": [\n          2.8,\n          0.4\n        ],\n        \"semantic_type\": \"\",\n        \"description\": \"\"\n      }\n    },\n    {\n      \"column\": \"slope\",\n      \"properties\": {\n        \"dtype\": \"category\",\n        \"num_unique_values\": 3,\n        \"samples\": [\n          \"Down\",\n          \"Up\"\n        ],\n        \"semantic_type\": \"\",\n        \"description\": \"\"\n      }\n    },\n    {\n      \"column\": \"ca\",\n      \"properties\": {\n        \"dtype\": \"number\",\n        \"std\": 1,\n        \"min\": 0,\n        \"max\": 4,\n        \"num_unique_values\": 5,\n        \"samples\": [\n          0,\n          4\n        ],\n        \"semantic_type\": \"\",\n        \"description\": \"\"\n      }\n    },\n    {\n      \"column\": \"thal\",\n      \"properties\": {\n        \"dtype\": \"category\",\n        \"num_unique_values\": 4,\n        \"samples\": [\n          \"fixed defect\",\n          0\n        ],\n        \"semantic_type\": \"\",\n        \"description\": \"\"\n      }\n    },\n    {\n      \"column\": \"target\",\n      \"properties\": {\n        \"dtype\": \"category\",\n        \"num_unique_values\": 2,\n        \"samples\": [\n          \"Yes\",\n          \"No\"\n        ],\n        \"semantic_type\": \"\",\n        \"description\": \"\"\n      }\n    }\n  ]\n}"
            }
          },
          "metadata": {},
          "execution_count": 41
        }
      ],
      "source": [
        "df2"
      ]
    },
    {
      "cell_type": "code",
      "execution_count": null,
      "metadata": {
        "colab": {
          "base_uri": "https://localhost:8080/",
          "height": 617
        },
        "id": "PvP0Fv_2GQYe",
        "outputId": "028d3b88-ce8d-4af8-ba7c-88845b258903"
      },
      "outputs": [
        {
          "data": {
            "application/vnd.google.colaboratory.intrinsic+json": {
              "summary": "{\n  \"name\": \"df2\",\n  \"rows\": 302,\n  \"fields\": [\n    {\n      \"column\": \"age\",\n      \"properties\": {\n        \"dtype\": \"number\",\n        \"std\": 9,\n        \"min\": 29,\n        \"max\": 77,\n        \"num_unique_values\": 41,\n        \"samples\": [\n          65,\n          50,\n          54\n        ],\n        \"semantic_type\": \"\",\n        \"description\": \"\"\n      }\n    },\n    {\n      \"column\": \"sex\",\n      \"properties\": {\n        \"dtype\": \"number\",\n        \"std\": 0,\n        \"min\": 0,\n        \"max\": 1,\n        \"num_unique_values\": 2,\n        \"samples\": [\n          0,\n          1\n        ],\n        \"semantic_type\": \"\",\n        \"description\": \"\"\n      }\n    },\n    {\n      \"column\": \"cp\",\n      \"properties\": {\n        \"dtype\": \"category\",\n        \"num_unique_values\": 4,\n        \"samples\": [\n          \"NAP\",\n          \"TA\"\n        ],\n        \"semantic_type\": \"\",\n        \"description\": \"\"\n      }\n    },\n    {\n      \"column\": \"trestbps\",\n      \"properties\": {\n        \"dtype\": \"number\",\n        \"std\": 17,\n        \"min\": 94,\n        \"max\": 200,\n        \"num_unique_values\": 49,\n        \"samples\": [\n          128,\n          172\n        ],\n        \"semantic_type\": \"\",\n        \"description\": \"\"\n      }\n    },\n    {\n      \"column\": \"chol\",\n      \"properties\": {\n        \"dtype\": \"number\",\n        \"std\": 51,\n        \"min\": 126,\n        \"max\": 564,\n        \"num_unique_values\": 152,\n        \"samples\": [\n          267,\n          262\n        ],\n        \"semantic_type\": \"\",\n        \"description\": \"\"\n      }\n    },\n    {\n      \"column\": \"fbs\",\n      \"properties\": {\n        \"dtype\": \"category\",\n        \"num_unique_values\": 2,\n        \"samples\": [\n          \"False\",\n          \"True\"\n        ],\n        \"semantic_type\": \"\",\n        \"description\": \"\"\n      }\n    },\n    {\n      \"column\": \"restecg\",\n      \"properties\": {\n        \"dtype\": \"number\",\n        \"std\": 0,\n        \"min\": 0,\n        \"max\": 2,\n        \"num_unique_values\": 3,\n        \"samples\": [\n          1,\n          0\n        ],\n        \"semantic_type\": \"\",\n        \"description\": \"\"\n      }\n    },\n    {\n      \"column\": \"thalach\",\n      \"properties\": {\n        \"dtype\": \"number\",\n        \"std\": 22,\n        \"min\": 71,\n        \"max\": 202,\n        \"num_unique_values\": 91,\n        \"samples\": [\n          180,\n          152\n        ],\n        \"semantic_type\": \"\",\n        \"description\": \"\"\n      }\n    },\n    {\n      \"column\": \"exang\",\n      \"properties\": {\n        \"dtype\": \"number\",\n        \"std\": 0,\n        \"min\": 0,\n        \"max\": 1,\n        \"num_unique_values\": 2,\n        \"samples\": [\n          1,\n          0\n        ],\n        \"semantic_type\": \"\",\n        \"description\": \"\"\n      }\n    },\n    {\n      \"column\": \"oldpeak\",\n      \"properties\": {\n        \"dtype\": \"number\",\n        \"std\": 1.1614522890634562,\n        \"min\": 0.0,\n        \"max\": 6.2,\n        \"num_unique_values\": 40,\n        \"samples\": [\n          2.8,\n          0.4\n        ],\n        \"semantic_type\": \"\",\n        \"description\": \"\"\n      }\n    },\n    {\n      \"column\": \"slope\",\n      \"properties\": {\n        \"dtype\": \"category\",\n        \"num_unique_values\": 3,\n        \"samples\": [\n          \"Down\",\n          \"Up\"\n        ],\n        \"semantic_type\": \"\",\n        \"description\": \"\"\n      }\n    },\n    {\n      \"column\": \"ca\",\n      \"properties\": {\n        \"dtype\": \"number\",\n        \"std\": 1,\n        \"min\": 0,\n        \"max\": 4,\n        \"num_unique_values\": 5,\n        \"samples\": [\n          0,\n          4\n        ],\n        \"semantic_type\": \"\",\n        \"description\": \"\"\n      }\n    },\n    {\n      \"column\": \"thal\",\n      \"properties\": {\n        \"dtype\": \"category\",\n        \"num_unique_values\": 4,\n        \"samples\": [\n          \"fixed defect\",\n          0\n        ],\n        \"semantic_type\": \"\",\n        \"description\": \"\"\n      }\n    },\n    {\n      \"column\": \"target\",\n      \"properties\": {\n        \"dtype\": \"category\",\n        \"num_unique_values\": 2,\n        \"samples\": [\n          \"Yes\",\n          \"No\"\n        ],\n        \"semantic_type\": \"\",\n        \"description\": \"\"\n      }\n    }\n  ]\n}",
              "type": "dataframe",
              "variable_name": "df2"
            },
            "text/html": [
              "\n",
              "  <div id=\"df-e9cddc84-9c9b-43c7-bb48-479bf4572440\" class=\"colab-df-container\">\n",
              "    <div>\n",
              "<style scoped>\n",
              "    .dataframe tbody tr th:only-of-type {\n",
              "        vertical-align: middle;\n",
              "    }\n",
              "\n",
              "    .dataframe tbody tr th {\n",
              "        vertical-align: top;\n",
              "    }\n",
              "\n",
              "    .dataframe thead th {\n",
              "        text-align: right;\n",
              "    }\n",
              "</style>\n",
              "<table border=\"1\" class=\"dataframe\">\n",
              "  <thead>\n",
              "    <tr style=\"text-align: right;\">\n",
              "      <th></th>\n",
              "      <th>age</th>\n",
              "      <th>sex</th>\n",
              "      <th>cp</th>\n",
              "      <th>trestbps</th>\n",
              "      <th>chol</th>\n",
              "      <th>fbs</th>\n",
              "      <th>restecg</th>\n",
              "      <th>thalach</th>\n",
              "      <th>exang</th>\n",
              "      <th>oldpeak</th>\n",
              "      <th>slope</th>\n",
              "      <th>ca</th>\n",
              "      <th>thal</th>\n",
              "      <th>target</th>\n",
              "    </tr>\n",
              "  </thead>\n",
              "  <tbody>\n",
              "    <tr>\n",
              "      <th>0</th>\n",
              "      <td>52</td>\n",
              "      <td>1</td>\n",
              "      <td>ATA</td>\n",
              "      <td>125</td>\n",
              "      <td>212</td>\n",
              "      <td>True</td>\n",
              "      <td>1</td>\n",
              "      <td>168</td>\n",
              "      <td>0</td>\n",
              "      <td>1.0</td>\n",
              "      <td>Down</td>\n",
              "      <td>2</td>\n",
              "      <td>reversible defect</td>\n",
              "      <td>No</td>\n",
              "    </tr>\n",
              "    <tr>\n",
              "      <th>1</th>\n",
              "      <td>53</td>\n",
              "      <td>1</td>\n",
              "      <td>ATA</td>\n",
              "      <td>140</td>\n",
              "      <td>203</td>\n",
              "      <td>False</td>\n",
              "      <td>0</td>\n",
              "      <td>155</td>\n",
              "      <td>1</td>\n",
              "      <td>3.1</td>\n",
              "      <td>Up</td>\n",
              "      <td>0</td>\n",
              "      <td>reversible defect</td>\n",
              "      <td>No</td>\n",
              "    </tr>\n",
              "    <tr>\n",
              "      <th>2</th>\n",
              "      <td>70</td>\n",
              "      <td>1</td>\n",
              "      <td>ATA</td>\n",
              "      <td>145</td>\n",
              "      <td>174</td>\n",
              "      <td>True</td>\n",
              "      <td>1</td>\n",
              "      <td>125</td>\n",
              "      <td>1</td>\n",
              "      <td>2.6</td>\n",
              "      <td>Up</td>\n",
              "      <td>0</td>\n",
              "      <td>reversible defect</td>\n",
              "      <td>No</td>\n",
              "    </tr>\n",
              "    <tr>\n",
              "      <th>3</th>\n",
              "      <td>61</td>\n",
              "      <td>1</td>\n",
              "      <td>ATA</td>\n",
              "      <td>148</td>\n",
              "      <td>203</td>\n",
              "      <td>True</td>\n",
              "      <td>1</td>\n",
              "      <td>161</td>\n",
              "      <td>0</td>\n",
              "      <td>0.0</td>\n",
              "      <td>Down</td>\n",
              "      <td>1</td>\n",
              "      <td>reversible defect</td>\n",
              "      <td>No</td>\n",
              "    </tr>\n",
              "    <tr>\n",
              "      <th>4</th>\n",
              "      <td>62</td>\n",
              "      <td>0</td>\n",
              "      <td>ATA</td>\n",
              "      <td>138</td>\n",
              "      <td>294</td>\n",
              "      <td>False</td>\n",
              "      <td>1</td>\n",
              "      <td>106</td>\n",
              "      <td>0</td>\n",
              "      <td>1.9</td>\n",
              "      <td>Flat</td>\n",
              "      <td>3</td>\n",
              "      <td>fixed defect</td>\n",
              "      <td>No</td>\n",
              "    </tr>\n",
              "    <tr>\n",
              "      <th>...</th>\n",
              "      <td>...</td>\n",
              "      <td>...</td>\n",
              "      <td>...</td>\n",
              "      <td>...</td>\n",
              "      <td>...</td>\n",
              "      <td>...</td>\n",
              "      <td>...</td>\n",
              "      <td>...</td>\n",
              "      <td>...</td>\n",
              "      <td>...</td>\n",
              "      <td>...</td>\n",
              "      <td>...</td>\n",
              "      <td>...</td>\n",
              "      <td>...</td>\n",
              "    </tr>\n",
              "    <tr>\n",
              "      <th>723</th>\n",
              "      <td>68</td>\n",
              "      <td>0</td>\n",
              "      <td>ASY</td>\n",
              "      <td>120</td>\n",
              "      <td>211</td>\n",
              "      <td>True</td>\n",
              "      <td>0</td>\n",
              "      <td>115</td>\n",
              "      <td>0</td>\n",
              "      <td>1.5</td>\n",
              "      <td>Flat</td>\n",
              "      <td>0</td>\n",
              "      <td>fixed defect</td>\n",
              "      <td>Yes</td>\n",
              "    </tr>\n",
              "    <tr>\n",
              "      <th>733</th>\n",
              "      <td>44</td>\n",
              "      <td>0</td>\n",
              "      <td>ASY</td>\n",
              "      <td>108</td>\n",
              "      <td>141</td>\n",
              "      <td>True</td>\n",
              "      <td>1</td>\n",
              "      <td>175</td>\n",
              "      <td>0</td>\n",
              "      <td>0.6</td>\n",
              "      <td>Flat</td>\n",
              "      <td>0</td>\n",
              "      <td>fixed defect</td>\n",
              "      <td>Yes</td>\n",
              "    </tr>\n",
              "    <tr>\n",
              "      <th>739</th>\n",
              "      <td>52</td>\n",
              "      <td>1</td>\n",
              "      <td>ATA</td>\n",
              "      <td>128</td>\n",
              "      <td>255</td>\n",
              "      <td>True</td>\n",
              "      <td>1</td>\n",
              "      <td>161</td>\n",
              "      <td>1</td>\n",
              "      <td>0.0</td>\n",
              "      <td>Down</td>\n",
              "      <td>1</td>\n",
              "      <td>reversible defect</td>\n",
              "      <td>No</td>\n",
              "    </tr>\n",
              "    <tr>\n",
              "      <th>843</th>\n",
              "      <td>59</td>\n",
              "      <td>1</td>\n",
              "      <td>TA</td>\n",
              "      <td>160</td>\n",
              "      <td>273</td>\n",
              "      <td>True</td>\n",
              "      <td>0</td>\n",
              "      <td>125</td>\n",
              "      <td>0</td>\n",
              "      <td>0.0</td>\n",
              "      <td>Down</td>\n",
              "      <td>0</td>\n",
              "      <td>fixed defect</td>\n",
              "      <td>No</td>\n",
              "    </tr>\n",
              "    <tr>\n",
              "      <th>878</th>\n",
              "      <td>54</td>\n",
              "      <td>1</td>\n",
              "      <td>ATA</td>\n",
              "      <td>120</td>\n",
              "      <td>188</td>\n",
              "      <td>True</td>\n",
              "      <td>1</td>\n",
              "      <td>113</td>\n",
              "      <td>0</td>\n",
              "      <td>1.4</td>\n",
              "      <td>Flat</td>\n",
              "      <td>1</td>\n",
              "      <td>reversible defect</td>\n",
              "      <td>No</td>\n",
              "    </tr>\n",
              "  </tbody>\n",
              "</table>\n",
              "<p>302 rows × 14 columns</p>\n",
              "</div>\n",
              "    <div class=\"colab-df-buttons\">\n",
              "\n",
              "  <div class=\"colab-df-container\">\n",
              "    <button class=\"colab-df-convert\" onclick=\"convertToInteractive('df-e9cddc84-9c9b-43c7-bb48-479bf4572440')\"\n",
              "            title=\"Convert this dataframe to an interactive table.\"\n",
              "            style=\"display:none;\">\n",
              "\n",
              "  <svg xmlns=\"http://www.w3.org/2000/svg\" height=\"24px\" viewBox=\"0 -960 960 960\">\n",
              "    <path d=\"M120-120v-720h720v720H120Zm60-500h600v-160H180v160Zm220 220h160v-160H400v160Zm0 220h160v-160H400v160ZM180-400h160v-160H180v160Zm440 0h160v-160H620v160ZM180-180h160v-160H180v160Zm440 0h160v-160H620v160Z\"/>\n",
              "  </svg>\n",
              "    </button>\n",
              "\n",
              "  <style>\n",
              "    .colab-df-container {\n",
              "      display:flex;\n",
              "      gap: 12px;\n",
              "    }\n",
              "\n",
              "    .colab-df-convert {\n",
              "      background-color: #E8F0FE;\n",
              "      border: none;\n",
              "      border-radius: 50%;\n",
              "      cursor: pointer;\n",
              "      display: none;\n",
              "      fill: #1967D2;\n",
              "      height: 32px;\n",
              "      padding: 0 0 0 0;\n",
              "      width: 32px;\n",
              "    }\n",
              "\n",
              "    .colab-df-convert:hover {\n",
              "      background-color: #E2EBFA;\n",
              "      box-shadow: 0px 1px 2px rgba(60, 64, 67, 0.3), 0px 1px 3px 1px rgba(60, 64, 67, 0.15);\n",
              "      fill: #174EA6;\n",
              "    }\n",
              "\n",
              "    .colab-df-buttons div {\n",
              "      margin-bottom: 4px;\n",
              "    }\n",
              "\n",
              "    [theme=dark] .colab-df-convert {\n",
              "      background-color: #3B4455;\n",
              "      fill: #D2E3FC;\n",
              "    }\n",
              "\n",
              "    [theme=dark] .colab-df-convert:hover {\n",
              "      background-color: #434B5C;\n",
              "      box-shadow: 0px 1px 3px 1px rgba(0, 0, 0, 0.15);\n",
              "      filter: drop-shadow(0px 1px 2px rgba(0, 0, 0, 0.3));\n",
              "      fill: #FFFFFF;\n",
              "    }\n",
              "  </style>\n",
              "\n",
              "    <script>\n",
              "      const buttonEl =\n",
              "        document.querySelector('#df-e9cddc84-9c9b-43c7-bb48-479bf4572440 button.colab-df-convert');\n",
              "      buttonEl.style.display =\n",
              "        google.colab.kernel.accessAllowed ? 'block' : 'none';\n",
              "\n",
              "      async function convertToInteractive(key) {\n",
              "        const element = document.querySelector('#df-e9cddc84-9c9b-43c7-bb48-479bf4572440');\n",
              "        const dataTable =\n",
              "          await google.colab.kernel.invokeFunction('convertToInteractive',\n",
              "                                                    [key], {});\n",
              "        if (!dataTable) return;\n",
              "\n",
              "        const docLinkHtml = 'Like what you see? Visit the ' +\n",
              "          '<a target=\"_blank\" href=https://colab.research.google.com/notebooks/data_table.ipynb>data table notebook</a>'\n",
              "          + ' to learn more about interactive tables.';\n",
              "        element.innerHTML = '';\n",
              "        dataTable['output_type'] = 'display_data';\n",
              "        await google.colab.output.renderOutput(dataTable, element);\n",
              "        const docLink = document.createElement('div');\n",
              "        docLink.innerHTML = docLinkHtml;\n",
              "        element.appendChild(docLink);\n",
              "      }\n",
              "    </script>\n",
              "  </div>\n",
              "\n",
              "\n",
              "<div id=\"df-2f80b54b-c491-4208-a3c8-ceb4b3c3241f\">\n",
              "  <button class=\"colab-df-quickchart\" onclick=\"quickchart('df-2f80b54b-c491-4208-a3c8-ceb4b3c3241f')\"\n",
              "            title=\"Suggest charts\"\n",
              "            style=\"display:none;\">\n",
              "\n",
              "<svg xmlns=\"http://www.w3.org/2000/svg\" height=\"24px\"viewBox=\"0 0 24 24\"\n",
              "     width=\"24px\">\n",
              "    <g>\n",
              "        <path d=\"M19 3H5c-1.1 0-2 .9-2 2v14c0 1.1.9 2 2 2h14c1.1 0 2-.9 2-2V5c0-1.1-.9-2-2-2zM9 17H7v-7h2v7zm4 0h-2V7h2v10zm4 0h-2v-4h2v4z\"/>\n",
              "    </g>\n",
              "</svg>\n",
              "  </button>\n",
              "\n",
              "<style>\n",
              "  .colab-df-quickchart {\n",
              "      --bg-color: #E8F0FE;\n",
              "      --fill-color: #1967D2;\n",
              "      --hover-bg-color: #E2EBFA;\n",
              "      --hover-fill-color: #174EA6;\n",
              "      --disabled-fill-color: #AAA;\n",
              "      --disabled-bg-color: #DDD;\n",
              "  }\n",
              "\n",
              "  [theme=dark] .colab-df-quickchart {\n",
              "      --bg-color: #3B4455;\n",
              "      --fill-color: #D2E3FC;\n",
              "      --hover-bg-color: #434B5C;\n",
              "      --hover-fill-color: #FFFFFF;\n",
              "      --disabled-bg-color: #3B4455;\n",
              "      --disabled-fill-color: #666;\n",
              "  }\n",
              "\n",
              "  .colab-df-quickchart {\n",
              "    background-color: var(--bg-color);\n",
              "    border: none;\n",
              "    border-radius: 50%;\n",
              "    cursor: pointer;\n",
              "    display: none;\n",
              "    fill: var(--fill-color);\n",
              "    height: 32px;\n",
              "    padding: 0;\n",
              "    width: 32px;\n",
              "  }\n",
              "\n",
              "  .colab-df-quickchart:hover {\n",
              "    background-color: var(--hover-bg-color);\n",
              "    box-shadow: 0 1px 2px rgba(60, 64, 67, 0.3), 0 1px 3px 1px rgba(60, 64, 67, 0.15);\n",
              "    fill: var(--button-hover-fill-color);\n",
              "  }\n",
              "\n",
              "  .colab-df-quickchart-complete:disabled,\n",
              "  .colab-df-quickchart-complete:disabled:hover {\n",
              "    background-color: var(--disabled-bg-color);\n",
              "    fill: var(--disabled-fill-color);\n",
              "    box-shadow: none;\n",
              "  }\n",
              "\n",
              "  .colab-df-spinner {\n",
              "    border: 2px solid var(--fill-color);\n",
              "    border-color: transparent;\n",
              "    border-bottom-color: var(--fill-color);\n",
              "    animation:\n",
              "      spin 1s steps(1) infinite;\n",
              "  }\n",
              "\n",
              "  @keyframes spin {\n",
              "    0% {\n",
              "      border-color: transparent;\n",
              "      border-bottom-color: var(--fill-color);\n",
              "      border-left-color: var(--fill-color);\n",
              "    }\n",
              "    20% {\n",
              "      border-color: transparent;\n",
              "      border-left-color: var(--fill-color);\n",
              "      border-top-color: var(--fill-color);\n",
              "    }\n",
              "    30% {\n",
              "      border-color: transparent;\n",
              "      border-left-color: var(--fill-color);\n",
              "      border-top-color: var(--fill-color);\n",
              "      border-right-color: var(--fill-color);\n",
              "    }\n",
              "    40% {\n",
              "      border-color: transparent;\n",
              "      border-right-color: var(--fill-color);\n",
              "      border-top-color: var(--fill-color);\n",
              "    }\n",
              "    60% {\n",
              "      border-color: transparent;\n",
              "      border-right-color: var(--fill-color);\n",
              "    }\n",
              "    80% {\n",
              "      border-color: transparent;\n",
              "      border-right-color: var(--fill-color);\n",
              "      border-bottom-color: var(--fill-color);\n",
              "    }\n",
              "    90% {\n",
              "      border-color: transparent;\n",
              "      border-bottom-color: var(--fill-color);\n",
              "    }\n",
              "  }\n",
              "</style>\n",
              "\n",
              "  <script>\n",
              "    async function quickchart(key) {\n",
              "      const quickchartButtonEl =\n",
              "        document.querySelector('#' + key + ' button');\n",
              "      quickchartButtonEl.disabled = true;  // To prevent multiple clicks.\n",
              "      quickchartButtonEl.classList.add('colab-df-spinner');\n",
              "      try {\n",
              "        const charts = await google.colab.kernel.invokeFunction(\n",
              "            'suggestCharts', [key], {});\n",
              "      } catch (error) {\n",
              "        console.error('Error during call to suggestCharts:', error);\n",
              "      }\n",
              "      quickchartButtonEl.classList.remove('colab-df-spinner');\n",
              "      quickchartButtonEl.classList.add('colab-df-quickchart-complete');\n",
              "    }\n",
              "    (() => {\n",
              "      let quickchartButtonEl =\n",
              "        document.querySelector('#df-2f80b54b-c491-4208-a3c8-ceb4b3c3241f button');\n",
              "      quickchartButtonEl.style.display =\n",
              "        google.colab.kernel.accessAllowed ? 'block' : 'none';\n",
              "    })();\n",
              "  </script>\n",
              "</div>\n",
              "\n",
              "  <div id=\"id_c40d3944-ea62-485c-80f8-0f97de05d6af\">\n",
              "    <style>\n",
              "      .colab-df-generate {\n",
              "        background-color: #E8F0FE;\n",
              "        border: none;\n",
              "        border-radius: 50%;\n",
              "        cursor: pointer;\n",
              "        display: none;\n",
              "        fill: #1967D2;\n",
              "        height: 32px;\n",
              "        padding: 0 0 0 0;\n",
              "        width: 32px;\n",
              "      }\n",
              "\n",
              "      .colab-df-generate:hover {\n",
              "        background-color: #E2EBFA;\n",
              "        box-shadow: 0px 1px 2px rgba(60, 64, 67, 0.3), 0px 1px 3px 1px rgba(60, 64, 67, 0.15);\n",
              "        fill: #174EA6;\n",
              "      }\n",
              "\n",
              "      [theme=dark] .colab-df-generate {\n",
              "        background-color: #3B4455;\n",
              "        fill: #D2E3FC;\n",
              "      }\n",
              "\n",
              "      [theme=dark] .colab-df-generate:hover {\n",
              "        background-color: #434B5C;\n",
              "        box-shadow: 0px 1px 3px 1px rgba(0, 0, 0, 0.15);\n",
              "        filter: drop-shadow(0px 1px 2px rgba(0, 0, 0, 0.3));\n",
              "        fill: #FFFFFF;\n",
              "      }\n",
              "    </style>\n",
              "    <button class=\"colab-df-generate\" onclick=\"generateWithVariable('df2')\"\n",
              "            title=\"Generate code using this dataframe.\"\n",
              "            style=\"display:none;\">\n",
              "\n",
              "  <svg xmlns=\"http://www.w3.org/2000/svg\" height=\"24px\"viewBox=\"0 0 24 24\"\n",
              "       width=\"24px\">\n",
              "    <path d=\"M7,19H8.4L18.45,9,17,7.55,7,17.6ZM5,21V16.75L18.45,3.32a2,2,0,0,1,2.83,0l1.4,1.43a1.91,1.91,0,0,1,.58,1.4,1.91,1.91,0,0,1-.58,1.4L9.25,21ZM18.45,9,17,7.55Zm-12,3A5.31,5.31,0,0,0,4.9,8.1,5.31,5.31,0,0,0,1,6.5,5.31,5.31,0,0,0,4.9,4.9,5.31,5.31,0,0,0,6.5,1,5.31,5.31,0,0,0,8.1,4.9,5.31,5.31,0,0,0,12,6.5,5.46,5.46,0,0,0,6.5,12Z\"/>\n",
              "  </svg>\n",
              "    </button>\n",
              "    <script>\n",
              "      (() => {\n",
              "      const buttonEl =\n",
              "        document.querySelector('#id_c40d3944-ea62-485c-80f8-0f97de05d6af button.colab-df-generate');\n",
              "      buttonEl.style.display =\n",
              "        google.colab.kernel.accessAllowed ? 'block' : 'none';\n",
              "\n",
              "      buttonEl.onclick = () => {\n",
              "        google.colab.notebook.generateWithVariable('df2');\n",
              "      }\n",
              "      })();\n",
              "    </script>\n",
              "  </div>\n",
              "\n",
              "    </div>\n",
              "  </div>\n"
            ],
            "text/plain": [
              "     age  sex   cp  trestbps  chol    fbs  restecg  thalach  exang  oldpeak  \\\n",
              "0     52    1  ATA       125   212   True        1      168      0      1.0   \n",
              "1     53    1  ATA       140   203  False        0      155      1      3.1   \n",
              "2     70    1  ATA       145   174   True        1      125      1      2.6   \n",
              "3     61    1  ATA       148   203   True        1      161      0      0.0   \n",
              "4     62    0  ATA       138   294  False        1      106      0      1.9   \n",
              "..   ...  ...  ...       ...   ...    ...      ...      ...    ...      ...   \n",
              "723   68    0  ASY       120   211   True        0      115      0      1.5   \n",
              "733   44    0  ASY       108   141   True        1      175      0      0.6   \n",
              "739   52    1  ATA       128   255   True        1      161      1      0.0   \n",
              "843   59    1   TA       160   273   True        0      125      0      0.0   \n",
              "878   54    1  ATA       120   188   True        1      113      0      1.4   \n",
              "\n",
              "    slope  ca               thal target  \n",
              "0    Down   2  reversible defect     No  \n",
              "1      Up   0  reversible defect     No  \n",
              "2      Up   0  reversible defect     No  \n",
              "3    Down   1  reversible defect     No  \n",
              "4    Flat   3       fixed defect     No  \n",
              "..    ...  ..                ...    ...  \n",
              "723  Flat   0       fixed defect    Yes  \n",
              "733  Flat   0       fixed defect    Yes  \n",
              "739  Down   1  reversible defect     No  \n",
              "843  Down   0       fixed defect     No  \n",
              "878  Flat   1  reversible defect     No  \n",
              "\n",
              "[302 rows x 14 columns]"
            ]
          },
          "execution_count": 76,
          "metadata": {},
          "output_type": "execute_result"
        }
      ],
      "source": [
        "df2\n"
      ]
    },
    {
      "cell_type": "markdown",
      "metadata": {
        "id": "1B0WvsqtaOtj"
      },
      "source": [
        "#Visualization"
      ]
    },
    {
      "cell_type": "code",
      "execution_count": null,
      "metadata": {
        "id": "V04_48NBxhqw"
      },
      "outputs": [],
      "source": []
    },
    {
      "cell_type": "code",
      "execution_count": null,
      "metadata": {
        "colab": {
          "base_uri": "https://localhost:8080/",
          "height": 691
        },
        "id": "LzKv7D8pwdIt",
        "outputId": "87f22966-e6eb-456d-a0f2-e487789eed8a"
      },
      "outputs": [
        {
          "data": {
            "image/png": "[encoded data removed]",
            "text/plain": [
              "<Figure size 1600x1200 with 2 Axes>"
            ]
          },
          "metadata": {},
          "output_type": "display_data"
        }
      ],
      "source": [
        "df .corr()\n",
        "plt.figure(figsize=(16,12))\n",
        "sns.heatmap(df.corr(),annot=True,cmap='Blues')\n",
        "plt.title('Correlation Heatmap')\n",
        "plt.show()"
      ]
    },
    {
      "cell_type": "code",
      "execution_count": null,
      "metadata": {
        "colab": {
          "base_uri": "https://localhost:8080/",
          "height": 368
        },
        "id": "IAuvadXxaNdz",
        "outputId": "46d43686-9764-4ef0-c145-ab628e831350"
      },
      "outputs": [
        {
          "data": {
            "image/png": "[encoded data removed]",
            "text/plain": [
              "<Figure size 1700x600 with 2 Axes>"
            ]
          },
          "metadata": {},
          "output_type": "display_data"
        }
      ],
      "source": [
        "plt.figure(figsize=(17,6))\n",
        "plt.subplot(1,2,1)\n",
        "heart_rate = df2[\"target\"].value_counts()\n",
        "sns.barplot(x=heart_rate.index,y=heart_rate.values,palette=[\"#1d7874\",\"#8B0000\"])\n",
        "plt.title(\"Heart Disease Counts\",fontweight=\"black\",size=20,pad=20)\n",
        "for i, v in enumerate(heart_rate.values):\n",
        "    plt.text(i, v, v,ha=\"center\", fontweight='black', fontsize=18)\n",
        "#pie chart\n",
        "plt.subplot(1,2,2)\n",
        "plt.pie(df2['target'].value_counts(), labels=[\"Yes\",\"No\"],autopct=\"%.2f%%\", textprops={\"fontweight\":\"black\",\"size\":15},explode=[0,0.1] ,colors = [\"#1d7874\",\"#AC1F29\"], startangle=90 ,shadow=True)\n",
        "plt.title(\"Heart Disease \",fontweight=\"black\",size=20,pad=20)\n",
        "center_circle = plt.Circle((0, 0), 0.3, fc='white')\n",
        "fig = plt.gcf()\n",
        "fig.gca().add_artist(center_circle)\n",
        "plt.title(\"Employee Attrition Rate\",fontweight=\"black\",size=20,pad=10)\n",
        "plt.show()\n",
        "\n",
        "\n",
        "\n"
      ]
    },
    {
      "cell_type": "markdown",
      "metadata": {
        "id": "oY0a6e4nx8Y0"
      },
      "source": [
        "Find Count of male and female in this dataset"
      ]
    },
    {
      "cell_type": "code",
      "execution_count": null,
      "metadata": {
        "colab": {
          "base_uri": "https://localhost:8080/",
          "height": 178
        },
        "id": "brp6vhqeyrIl",
        "outputId": "874359d4-947b-4000-f066-ede61d9ad846"
      },
      "outputs": [
        {
          "data": {
            "text/html": [
              "<table border=\"1\" class=\"dataframe\">\n",
              "  <thead>\n",
              "    <tr style=\"text-align: right;\">\n",
              "      <th></th>\n",
              "      <th>count</th>\n",
              "    </tr>\n",
              "    <tr>\n",
              "      <th>sex</th>\n",
              "      <th></th>\n",
              "    </tr>\n",
              "  </thead>\n",
              "  <tbody>\n",
              "    <tr>\n",
              "      <th>1</th>\n",
              "      <td>206</td>\n",
              "    </tr>\n",
              "    <tr>\n",
              "      <th>0</th>\n",
              "      <td>96</td>\n",
              "    </tr>\n",
              "  </tbody>\n",
              "</table><br><label><b>dtype:</b> int64</label>"
            ],
            "text/plain": [
              "sex\n",
              "1    206\n",
              "0     96\n",
              "Name: count, dtype: int64"
            ]
          },
          "execution_count": 31,
          "metadata": {},
          "output_type": "execute_result"
        }
      ],
      "source": [
        "df2['sex'].value_counts()\n"
      ]
    },
    {
      "cell_type": "code",
      "execution_count": null,
      "metadata": {
        "colab": {
          "base_uri": "https://localhost:8080/",
          "height": 609
        },
        "id": "fxQgiNxbx77p",
        "outputId": "c18b7f95-6ac6-42ff-c5d9-aef5eec561ff"
      },
      "outputs": [
        {
          "data": {
            "text/plain": [
              "Text(0.5, 1.0, 'Counts of Male And Female')"
            ]
          },
          "execution_count": 32,
          "metadata": {},
          "output_type": "execute_result"
        },
        {
          "data": {
            "image/png": "[encoded data removed]",
            "text/plain": [
              "<Figure size 1700x600 with 1 Axes>"
            ]
          },
          "metadata": {},
          "output_type": "display_data"
        }
      ],
      "source": [
        "plt.figure(figsize=(17,6))\n",
        "plt.subplot(1,2,1)\n",
        "gender_count = df2[\"sex\"].value_counts()\n",
        "sns.barplot(x=gender_count.index,y=gender_count.values,palette=[\"#1d7874\",\"#8B0000\"])\n",
        "plt.xticks([0,1],['Female','Male'])\n",
        "plt.title(\"Counts of Male And Female\",fontweight=\"black\",size=20,pad=20)"
      ]
    },
    {
      "cell_type": "markdown",
      "metadata": {
        "id": "mNfze9iV56AI"
      },
      "source": [
        "Find Gender Distribution According to target variable"
      ]
    },
    {
      "cell_type": "code",
      "execution_count": null,
      "metadata": {
        "colab": {
          "base_uri": "https://localhost:8080/",
          "height": 449
        },
        "id": "v4itkr1_2hm3",
        "outputId": "83ef5246-6fed-4f88-af04-6584a480b205"
      },
      "outputs": [
        {
          "data": {
            "image/png": "[encoded data removed]",
            "text/plain": [
              "<Figure size 640x480 with 1 Axes>"
            ]
          },
          "metadata": {},
          "output_type": "display_data"
        }
      ],
      "source": [
        "sns.countplot(x='sex',hue='target',data=df2)\n",
        "plt.xticks([0,1],['Female','Male'])\n",
        "plt.legend(labels=['No disease','Disease'])\n",
        "plt.show()"
      ]
    },
    {
      "cell_type": "markdown",
      "metadata": {
        "id": "cKjoJpdL6Mt4"
      },
      "source": [
        "Check Age Distribution in the dateset"
      ]
    },
    {
      "cell_type": "code",
      "execution_count": null,
      "metadata": {
        "colab": {
          "base_uri": "https://localhost:8080/",
          "height": 449
        },
        "id": "TXGdJgSZ52_u",
        "outputId": "113f94e8-893b-4864-d231-41ea31798fbc"
      },
      "outputs": [
        {
          "data": {
            "image/png": "[encoded data removed]",
            "text/plain": [
              "<Figure size 640x480 with 1 Axes>"
            ]
          },
          "metadata": {},
          "output_type": "display_data"
        }
      ],
      "source": [
        "sns.distplot(df2['age'],bins=20,hist=True, color=\"#8B0000\")\n",
        "plt.show()"
      ]
    },
    {
      "cell_type": "markdown",
      "metadata": {
        "id": "iw5HbX3ZK8FI"
      },
      "source": [
        "Counts of Chest Pain Type\n",
        "\n",
        "\n",
        "*   ATA: A Typical angina\n",
        "*   NAP:Non Anginal pain\n",
        "*   ASY:Asymptomatic\n",
        "*   TA:Typical Angina\n",
        "\n",
        "\n",
        "\n",
        "\n"
      ]
    },
    {
      "cell_type": "code",
      "execution_count": null,
      "metadata": {
        "colab": {
          "base_uri": "https://localhost:8080/",
          "height": 241
        },
        "id": "4Wy7GpA_L1a_",
        "outputId": "993f8462-5ca6-469d-9d4d-c21661be32d3"
      },
      "outputs": [
        {
          "data": {
            "text/html": [
              "<table border=\"1\" class=\"dataframe\">\n",
              "  <thead>\n",
              "    <tr style=\"text-align: right;\">\n",
              "      <th></th>\n",
              "      <th>count</th>\n",
              "    </tr>\n",
              "    <tr>\n",
              "      <th>cp</th>\n",
              "      <th></th>\n",
              "    </tr>\n",
              "  </thead>\n",
              "  <tbody>\n",
              "    <tr>\n",
              "      <th>ATA</th>\n",
              "      <td>143</td>\n",
              "    </tr>\n",
              "    <tr>\n",
              "      <th>ASY</th>\n",
              "      <td>86</td>\n",
              "    </tr>\n",
              "    <tr>\n",
              "      <th>NAP</th>\n",
              "      <td>50</td>\n",
              "    </tr>\n",
              "    <tr>\n",
              "      <th>TA</th>\n",
              "      <td>23</td>\n",
              "    </tr>\n",
              "  </tbody>\n",
              "</table><br><label><b>dtype:</b> int64</label>"
            ],
            "text/plain": [
              "cp\n",
              "ATA    143\n",
              "ASY     86\n",
              "NAP     50\n",
              "TA      23\n",
              "Name: count, dtype: int64"
            ]
          },
          "execution_count": 35,
          "metadata": {},
          "output_type": "execute_result"
        }
      ],
      "source": [
        "df2[\"cp\"].value_counts()"
      ]
    },
    {
      "cell_type": "code",
      "execution_count": null,
      "metadata": {
        "colab": {
          "base_uri": "https://localhost:8080/"
        },
        "id": "pd9SYESzL88I",
        "outputId": "2665f2cf-2832-477e-dbb9-f831512e06c1"
      },
      "outputs": [
        {
          "data": {
            "text/plain": [
              "array(['ATA', 'ATA', 'ATA', 'ATA', 'ATA', 'ATA', 'ATA', 'ATA', 'ATA',\n",
              "       'ATA', 'ATA', 'ATA', 'NAP', 'ATA', 'ATA', 'ASY', 'ATA', 'NAP',\n",
              "       'ASY', 'ASY', 'ATA', 'ATA', 'ASY', 'ASY', 'ATA', 'ASY', 'NAP',\n",
              "       'ASY', 'ATA', 'ATA', 'ATA', 'ASY', 'ASY', 'ASY', 'TA', 'ATA',\n",
              "       'ATA', 'ASY', 'ASY', 'ASY', 'ATA', 'NAP', 'ATA', 'NAP', 'ATA',\n",
              "       'ASY', 'ATA', 'TA', 'ATA', 'ASY', 'ASY', 'ATA', 'TA', 'NAP', 'ASY',\n",
              "       'NAP', 'NAP', 'ATA', 'ASY', 'TA', 'ASY', 'ATA', 'ASY', 'ATA',\n",
              "       'ATA', 'ATA', 'ATA', 'ATA', 'ATA', 'ASY', 'ASY', 'ATA', 'NAP',\n",
              "       'ASY', 'ASY', 'NAP', 'ATA', 'ATA', 'ATA', 'ASY', 'ATA', 'NAP',\n",
              "       'ATA', 'ATA', 'ATA', 'ATA', 'ASY', 'ASY', 'ASY', 'NAP', 'TA',\n",
              "       'ATA', 'ATA', 'NAP', 'ATA', 'ATA', 'ATA', 'ATA', 'ATA', 'ASY',\n",
              "       'ATA', 'ATA', 'NAP', 'ATA', 'ASY', 'ATA', 'TA', 'ATA', 'ASY',\n",
              "       'ATA', 'ASY', 'ATA', 'ATA', 'NAP', 'ATA', 'ATA', 'TA', 'TA', 'ATA',\n",
              "       'ATA', 'ASY', 'ATA', 'TA', 'ASY', 'NAP', 'ATA', 'ATA', 'TA', 'ASY',\n",
              "       'NAP', 'ATA', 'ASY', 'ATA', 'ATA', 'ATA', 'ASY', 'NAP', 'ATA',\n",
              "       'ATA', 'NAP', 'ASY', 'ATA', 'ATA', 'ATA', 'ATA', 'TA', 'ATA',\n",
              "       'ASY', 'NAP', 'ATA', 'ASY', 'ASY', 'NAP', 'TA', 'ATA', 'ATA',\n",
              "       'ATA', 'ASY', 'ATA', 'TA', 'TA', 'ASY', 'ATA', 'NAP', 'ATA', 'ATA',\n",
              "       'NAP', 'ATA', 'ASY', 'ASY', 'NAP', 'NAP', 'ATA', 'NAP', 'ATA',\n",
              "       'NAP', 'ATA', 'NAP', 'ASY', 'NAP', 'ASY', 'ATA', 'ATA', 'ATA',\n",
              "       'ATA', 'TA', 'ASY', 'ATA', 'ATA', 'ASY', 'ASY', 'ATA', 'NAP',\n",
              "       'ATA', 'ATA', 'NAP', 'NAP', 'NAP', 'NAP', 'ASY', 'NAP', 'ASY',\n",
              "       'ATA', 'ASY', 'ATA', 'NAP', 'NAP', 'ASY', 'ASY', 'ATA', 'NAP',\n",
              "       'NAP', 'ASY', 'ATA', 'ASY', 'ATA', 'NAP', 'ATA', 'ATA', 'ATA',\n",
              "       'ASY', 'ASY', 'ATA', 'ASY', 'ATA', 'ASY', 'ASY', 'ATA', 'ASY',\n",
              "       'ATA', 'ATA', 'ATA', 'TA', 'ASY', 'ASY', 'ASY', 'NAP', 'ASY',\n",
              "       'ASY', 'NAP', 'ASY', 'NAP', 'ATA', 'ATA', 'ATA', 'ATA', 'TA', 'TA',\n",
              "       'ASY', 'NAP', 'ATA', 'ATA', 'ASY', 'ASY', 'ASY', 'ATA', 'ASY',\n",
              "       'ATA', 'ASY', 'ATA', 'ATA', 'NAP', 'ASY', 'ATA', 'ASY', 'ATA',\n",
              "       'ATA', 'ATA', 'ATA', 'NAP', 'ASY', 'TA', 'ATA', 'ATA', 'ASY',\n",
              "       'ASY', 'ASY', 'ATA', 'ATA', 'ASY', 'NAP', 'NAP', 'ATA', 'NAP',\n",
              "       'ATA', 'ATA', 'ATA', 'TA', 'TA', 'ATA', 'ATA', 'TA', 'NAP', 'ATA',\n",
              "       'ASY', 'ATA', 'ASY', 'ASY', 'ASY', 'ATA', 'TA', 'ATA'],\n",
              "      dtype=object)"
            ]
          },
          "execution_count": 36,
          "metadata": {},
          "output_type": "execute_result"
        }
      ],
      "source": [
        "df2['cp'].values"
      ]
    },
    {
      "cell_type": "code",
      "execution_count": null,
      "metadata": {
        "colab": {
          "base_uri": "https://localhost:8080/",
          "height": 609
        },
        "id": "d9Kimqxf31bv",
        "outputId": "2d0ebad4-13cd-4143-ac7f-a1bfdd8051de"
      },
      "outputs": [
        {
          "data": {
            "text/plain": [
              "Text(0.5, 1.0, 'Counts of Chest Pain')"
            ]
          },
          "execution_count": 37,
          "metadata": {},
          "output_type": "execute_result"
        },
        {
          "data": {
            "image/png": "[encoded data removed]",
            "text/plain": [
              "<Figure size 1700x600 with 1 Axes>"
            ]
          },
          "metadata": {},
          "output_type": "display_data"
        }
      ],
      "source": [
        "plt.figure(figsize=(17,6))\n",
        "plt.subplot(1,2,1)\n",
        "chest_count = df2[\"cp\"].value_counts()\n",
        "sns.barplot(x=chest_count.index,y=chest_count.values,palette=[\"#1d7874\",\"#8B0000\",\"blue\",\"green\",\"yellow\"])\n",
        "# plt.xticks([0,1],['Female','Male'])\n",
        "plt.title(\"Counts of Chest Pain\",fontweight=\"black\",size=20,pad=20)"
      ]
    },
    {
      "cell_type": "markdown",
      "metadata": {
        "id": "A8U-bs2kPTDM"
      },
      "source": [
        "Show Distribution of Chest Pain As per Target Variable"
      ]
    },
    {
      "cell_type": "code",
      "execution_count": null,
      "metadata": {
        "colab": {
          "base_uri": "https://localhost:8080/",
          "height": 178
        },
        "id": "HbfFqEJdoLVC",
        "outputId": "0b571f2d-cd89-4b7b-f30f-b72ac5001a08"
      },
      "outputs": [
        {
          "data": {
            "text/html": [
              "<table border=\"1\" class=\"dataframe\">\n",
              "  <thead>\n",
              "    <tr style=\"text-align: right;\">\n",
              "      <th></th>\n",
              "      <th>count</th>\n",
              "    </tr>\n",
              "    <tr>\n",
              "      <th>target</th>\n",
              "      <th></th>\n",
              "    </tr>\n",
              "  </thead>\n",
              "  <tbody>\n",
              "    <tr>\n",
              "      <th>Yes</th>\n",
              "      <td>164</td>\n",
              "    </tr>\n",
              "    <tr>\n",
              "      <th>No</th>\n",
              "      <td>138</td>\n",
              "    </tr>\n",
              "  </tbody>\n",
              "</table><br><label><b>dtype:</b> int64</label>"
            ],
            "text/plain": [
              "target\n",
              "Yes    164\n",
              "No     138\n",
              "Name: count, dtype: int64"
            ]
          },
          "execution_count": 38,
          "metadata": {},
          "output_type": "execute_result"
        }
      ],
      "source": [
        "df2['target'].value_counts()"
      ]
    },
    {
      "cell_type": "code",
      "execution_count": null,
      "metadata": {
        "colab": {
          "base_uri": "https://localhost:8080/",
          "height": 449
        },
        "id": "3tigUpNhRPUa",
        "outputId": "90af30f9-3be7-44f6-a892-cfb15a68d375"
      },
      "outputs": [
        {
          "data": {
            "image/png": "[encoded data removed]",
            "text/plain": [
              "<Figure size 640x480 with 1 Axes>"
            ]
          },
          "metadata": {},
          "output_type": "display_data"
        }
      ],
      "source": [
        "sns.countplot(x='cp',hue='target',data=df2)\n",
        "# plt.xticks([0,1],['Female','Male'])\n",
        "plt.legend(labels=['No-disease','Disease'])\n",
        "plt.show()"
      ]
    },
    {
      "cell_type": "markdown",
      "metadata": {
        "id": "n64kcZ25UaaJ"
      },
      "source": [
        "Show Fasting Blood Sugar Distribution As per 'Target'variable  "
      ]
    },
    {
      "cell_type": "code",
      "execution_count": null,
      "metadata": {
        "colab": {
          "base_uri": "https://localhost:8080/",
          "height": 449
        },
        "id": "EWw5DCV8Re_4",
        "outputId": "d169a138-4a9f-48ab-aeb9-1ec8456552b8"
      },
      "outputs": [
        {
          "data": {
            "image/png": "[encoded data removed]",
            "text/plain": [
              "<Figure size 640x480 with 1 Axes>"
            ]
          },
          "metadata": {},
          "output_type": "display_data"
        }
      ],
      "source": [
        "sns.countplot(x='fbs',hue='target',data=df2 ,palette=['blue','green'])\n",
        "# plt.xticks([0,1],['Female','Male'])\n",
        "plt.legend(labels=['No-disease','Disease'])\n",
        "plt.show()"
      ]
    },
    {
      "cell_type": "markdown",
      "metadata": {
        "id": "lK6PdXA4Wpnq"
      },
      "source": [
        "Check Resting blood sugar distribution"
      ]
    },
    {
      "cell_type": "code",
      "execution_count": null,
      "metadata": {
        "colab": {
          "base_uri": "https://localhost:8080/",
          "height": 447
        },
        "id": "fzrApEwSWwA3",
        "outputId": "2aba20f4-c136-4f62-b3fe-7df71e51169d"
      },
      "outputs": [
        {
          "data": {
            "text/plain": [
              "<Axes: >"
            ]
          },
          "execution_count": 41,
          "metadata": {},
          "output_type": "execute_result"
        },
        {
          "data": {
            "image/png": "[encoded data removed]",
            "text/plain": [
              "<Figure size 640x480 with 1 Axes>"
            ]
          },
          "metadata": {},
          "output_type": "display_data"
        }
      ],
      "source": [
        "# plt.figure(figsize=(13,6))\n",
        "# plt.subplot(1,2,1)\n",
        "# sns.histplot(x=\"fbs\", hue=\"target\", kde=True ,data=df,palette=[\"#11264e\",\"#6faea4\"])\n",
        "# plt.title(\"Employee Attrition by Monthly Income\",fontweight=\"black\",size=20,pad=15)\n",
        "df2['trestbps'].hist(color='green')"
      ]
    },
    {
      "cell_type": "markdown",
      "metadata": {
        "id": "IL2N07JsdPTL"
      },
      "source": [
        "Compare resting blood sugar as per sex columns"
      ]
    },
    {
      "cell_type": "code",
      "execution_count": null,
      "metadata": {
        "colab": {
          "base_uri": "https://localhost:8080/",
          "height": 214
        },
        "id": "KWaABeASdT0N",
        "outputId": "a3fbd99a-543b-4cbb-e50d-593f20942ba0"
      },
      "outputs": [
        {
          "data": {
            "image/png": "[encoded data removed]",
            "text/plain": [
              "<Figure size 1200x300 with 1 Axes>"
            ]
          },
          "metadata": {},
          "output_type": "display_data"
        }
      ],
      "source": [
        "g = sns.FacetGrid(df2,hue='sex', aspect=4)\n",
        "g.map(sns.kdeplot ,\"trestbps\",shade=True)\n",
        "plt.legend(labels=[\"Male\",\"Female\"])\n",
        "plt.show()"
      ]
    },
    {
      "cell_type": "markdown",
      "metadata": {
        "id": "QYe-ITAeeWmZ"
      },
      "source": [
        "Show Distribution Of Serum Cholestrol"
      ]
    },
    {
      "cell_type": "code",
      "execution_count": null,
      "metadata": {
        "colab": {
          "base_uri": "https://localhost:8080/"
        },
        "id": "S9HHv2H6eVsy",
        "outputId": "b301ae2e-8707-4611-e73f-66efdce5e2b6"
      },
      "outputs": [
        {
          "data": {
            "text/plain": [
              "Index(['age', 'sex', 'cp', 'trestbps', 'chol', 'fbs', 'restecg', 'thalach',\n",
              "       'exang', 'oldpeak', 'slope', 'ca', 'thal', 'target'],\n",
              "      dtype='object')"
            ]
          },
          "execution_count": 48,
          "metadata": {},
          "output_type": "execute_result"
        }
      ],
      "source": [
        "df2.columns"
      ]
    },
    {
      "cell_type": "code",
      "execution_count": null,
      "metadata": {
        "colab": {
          "base_uri": "https://localhost:8080/",
          "height": 447
        },
        "id": "VzQWhzkZesri",
        "outputId": "46de63ef-b58c-4677-c946-6345fa33833d"
      },
      "outputs": [
        {
          "data": {
            "text/plain": [
              "<Axes: >"
            ]
          },
          "execution_count": 49,
          "metadata": {},
          "output_type": "execute_result"
        },
        {
          "data": {
            "image/png": "[encoded data removed]",
            "text/plain": [
              "<Figure size 640x480 with 1 Axes>"
            ]
          },
          "metadata": {},
          "output_type": "display_data"
        }
      ],
      "source": [
        "df2['chol'].hist()"
      ]
    },
    {
      "cell_type": "code",
      "execution_count": null,
      "metadata": {
        "id": "-GCu9_Coe18G"
      },
      "outputs": [],
      "source": []
    },
    {
      "cell_type": "code",
      "execution_count": null,
      "metadata": {
        "colab": {
          "base_uri": "https://localhost:8080/",
          "height": 560
        },
        "id": "rGo11DOyNObR",
        "outputId": "49a45053-e1c0-4e7c-ed8c-e458cc19c13b"
      },
      "outputs": [
        {
          "name": "stdout",
          "output_type": "stream",
          "text": [
            "The average cholesterol among the population within the dataset: 246.5\n"
          ]
        },
        {
          "data": {
            "image/png": "[encoded data removed]",
            "text/plain": [
              "<Figure size 1000x600 with 1 Axes>"
            ]
          },
          "metadata": {},
          "output_type": "display_data"
        }
      ],
      "source": [
        "# Calculate mean cholesterol levels for the entire dataset\n",
        "mean_total = np.mean(df2['chol'])\n",
        "\n",
        "# Print the average cholesterol level\n",
        "print('The average cholesterol among the population within the dataset:', mean_total)\n",
        "\n",
        "# Plot overlapping histograms\n",
        "plt.figure(figsize=(10, 6))\n",
        "plt.hist(df2['chol'], bins=30, alpha=0.5, color='blue')\n",
        "plt.axvline(mean_total, color='blue', linestyle='dashed', linewidth=1, label='Mean Cholesterol')\n",
        "plt.xlabel('Cholesterol Level (mg/dl)')\n",
        "plt.ylabel('Frequency')\n",
        "plt.title('Distribution of Cholesterol Levels')\n",
        "plt.legend()\n",
        "plt.show()"
      ]
    },
    {
      "cell_type": "code",
      "execution_count": null,
      "metadata": {
        "colab": {
          "base_uri": "https://localhost:8080/"
        },
        "id": "CmdYnx-NepMy",
        "outputId": "0c434822-9509-4d77-8c92-3bea4da10bef"
      },
      "outputs": [
        {
          "data": {
            "text/plain": [
              "Index(['age', 'sex', 'cp', 'trestbps', 'chol', 'fbs', 'restecg', 'thalach',\n",
              "       'exang', 'oldpeak', 'slope', 'ca', 'thal', 'target'],\n",
              "      dtype='object')"
            ]
          },
          "execution_count": 44,
          "metadata": {},
          "output_type": "execute_result"
        }
      ],
      "source": [
        "df.columns"
      ]
    }
  ],
  "metadata": {
    "colab": {
      "provenance": []
    },
    "kernelspec": {
      "display_name": "Python 3",
      "name": "python3"
    },
    "language_info": {
      "name": "python"
    }
  },
  "nbformat": 4,
  "nbformat_minor": 0
}